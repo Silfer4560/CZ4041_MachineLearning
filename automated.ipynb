{
 "cells": [
  {
   "cell_type": "code",
   "execution_count": null,
   "metadata": {},
   "outputs": [],
   "source": [
    "#  Libraries\n",
    "import tqdm\n",
    "import numpy as np \n",
    "import pandas as pd\n",
    "from time import time\n",
    "import datetime as dt\n",
    "import pickle\n",
    "import gc\n",
    "# Data processing, metrics and modeling\n",
    "from sklearn.preprocessing import LabelEncoder\n",
    "from sklearn.model_selection import StratifiedKFold\n",
    "from bayes_opt import BayesianOptimization\n",
    "from sklearn.metrics import precision_score, recall_score, confusion_matrix, accuracy_score, roc_auc_score, f1_score, roc_curve, auc,precision_recall_curve\n",
    "from sklearn import metrics\n",
    "from sklearn import preprocessing\n",
    "# Lgbm\n",
    "import lightgbm as lgb\n",
    "# Suppr warning\n",
    "import warnings\n",
    "warnings.filterwarnings(\"ignore\")\n",
    "import json\n",
    "\n",
    "import itertools\n",
    "from scipy import interp\n",
    "\n",
    "# Plots\n",
    "import seaborn as sns\n",
    "import matplotlib.pyplot as plt\n",
    "%matplotlib inline\n",
    "from matplotlib import rcParams"
   ]
  },
  {
   "cell_type": "code",
   "execution_count": null,
   "metadata": {},
   "outputs": [],
   "source": [
    "#import in dataset\n",
    "f = open(\"features_optimized.txt\",\"r\")\n",
    "features_list = []\n",
    "features_list = f.read().splitlines()\n",
    "f.close()\n",
    "print (features_list)\n",
    "\n",
    "train = pd.read_csv(\"train_prepared.csv\")\n",
    "test = pd.read_csv(\"test_prepared.csv\")"
   ]
  },
  {
   "cell_type": "code",
   "execution_count": null,
   "metadata": {},
   "outputs": [],
   "source": [
    "def reduce_mem_usage(df, verbose=True):\n",
    "    numerics = ['int16', 'int32', 'int64', 'float16', 'float32', 'float64']\n",
    "    start_mem = df.memory_usage().sum() / 1024**2    \n",
    "    for col in df.columns:\n",
    "        col_type = df[col].dtypes\n",
    "        if col_type in numerics:\n",
    "            c_min = df[col].min()\n",
    "            c_max = df[col].max()\n",
    "            if str(col_type)[:3] == 'int':\n",
    "                if c_min > np.iinfo(np.int8).min and c_max < np.iinfo(np.int8).max:\n",
    "                    df[col] = df[col].astype(np.int8)\n",
    "                elif c_min > np.iinfo(np.int16).min and c_max < np.iinfo(np.int16).max:\n",
    "                    df[col] = df[col].astype(np.int16)\n",
    "                elif c_min > np.iinfo(np.int32).min and c_max < np.iinfo(np.int32).max:\n",
    "                    df[col] = df[col].astype(np.int32)\n",
    "                elif c_min > np.iinfo(np.int64).min and c_max < np.iinfo(np.int64).max:\n",
    "                    df[col] = df[col].astype(np.int64)  \n",
    "            else:\n",
    "                if c_min > np.finfo(np.float16).min and c_max < np.finfo(np.float16).max:\n",
    "                    df[col] = df[col].astype(np.float16)\n",
    "                elif c_min > np.finfo(np.float32).min and c_max < np.finfo(np.float32).max:\n",
    "                    df[col] = df[col].astype(np.float32)\n",
    "                else:\n",
    "                    df[col] = df[col].astype(np.float64)    \n",
    "    end_mem = df.memory_usage().sum() / 1024**2\n",
    "    if verbose: \n",
    "        print('Mem. usage decreased to {:5.2f} Mb ({:.1f}% reduction)'.format(end_mem, 100 * (start_mem - end_mem) / start_mem))\n",
    "    return df"
   ]
  },
  {
   "cell_type": "code",
   "execution_count": null,
   "metadata": {},
   "outputs": [],
   "source": [
    "#encode the dataframe\n",
    "for col in tqdm.tqdm(train.columns): \n",
    "    if train[col].dtype == 'object':\n",
    "        le = LabelEncoder()\n",
    "        le.fit(list(train[col].astype(str).values) + list(test[col].astype(str).values))\n",
    "        train[col] = le.transform(list(train[col].astype(str).values))\n",
    "        test[col] = le.transform(list(test[col].astype(str).values))  "
   ]
  },
  {
   "cell_type": "code",
   "execution_count": null,
   "metadata": {},
   "outputs": [],
   "source": [
    "#reduce mem usage\n",
    "train = reduce_mem_usage(train)\n",
    "test = reduce_mem_usage(test)"
   ]
  },
  {
   "cell_type": "code",
   "execution_count": null,
   "metadata": {},
   "outputs": [],
   "source": [
    "#isolate test and traindata\n",
    "test_data = test[features_list]\n",
    "train_data = train[features_list]"
   ]
  },
  {
   "cell_type": "code",
   "execution_count": null,
   "metadata": {},
   "outputs": [],
   "source": [
    "result_list = test[\"TransactionID\"].to_frame(name=\"TransactionID\")\n",
    "mydf = train['isFraud']\n",
    "target = mydf"
   ]
  },
  {
   "cell_type": "code",
   "execution_count": null,
   "metadata": {},
   "outputs": [],
   "source": [
    "del(test)\n",
    "del(train)\n",
    "gc.collect()"
   ]
  },
  {
   "cell_type": "code",
   "execution_count": null,
   "metadata": {},
   "outputs": [],
   "source": [
    "#create lgb dataset from train set\n",
    "# d_train = lgb.Dataset(train_data, label=target)"
   ]
  },
  {
   "cell_type": "code",
   "execution_count": null,
   "metadata": {},
   "outputs": [],
   "source": [
    "# #Declare params here\n",
    "#highest score\n",
    "params= {'num_leaves': 250,\n",
    "          'min_child_weight': 0.1,\n",
    "          'feature_fraction': 0.5,\n",
    "          'bagging_fraction': 0.5,\n",
    "          'min_data_in_leaf': 256,\n",
    "          'bagging_freq': 5,\n",
    "          'objective': 'binary',\n",
    "          'max_depth': -1, \n",
    "          'learning_rate': 0.001,\n",
    "          \"boosting_type\": \"gbdt\", \n",
    "          \"bagging_seed\": 4041,   \n",
    "          \"feature_fraction_seed\":4041, \n",
    "          \"metric\": 'auc',       \n",
    "          'reg_alpha': 0.,        \n",
    "          'reg_lambda': 2.,      \n",
    "         } \n",
    "#change to num leaves\n",
    "params3= {'num_leaves': 250,\n",
    "          'min_child_weight': 0.1,\n",
    "          'feature_fraction': 0.5,\n",
    "          'bagging_fraction': 0.5,\n",
    "          'min_data_in_leaf': 256,\n",
    "          'bagging_freq': 5,\n",
    "          'objective': 'binary',\n",
    "          'max_depth': -1,\n",
    "          'learning_rate': 0.1,\n",
    "          \"boosting_type\": \"gbdt\",\n",
    "          \"bagging_seed\": 4041,\n",
    "          \"feature_fraction_seed\":4041,\n",
    "          \"metric\": 'auc',\n",
    "          'reg_alpha': 1.,\n",
    "          'reg_lambda': 2.,\n",
    "         }\n",
    "\n",
    "\n",
    "paramList = [params]"
   ]
  },
  {
   "cell_type": "code",
   "execution_count": null,
   "metadata": {},
   "outputs": [],
   "source": [
    "#catboost params here\n",
    "#paramList = [params,params1,params2,params3,params4]"
   ]
  },
  {
   "cell_type": "code",
   "execution_count": null,
   "metadata": {},
   "outputs": [],
   "source": [
    "#prepare folds for validation\n",
    "folds = StratifiedKFold(n_splits=5,shuffle=False)"
   ]
  },
  {
   "cell_type": "code",
   "execution_count": null,
   "metadata": {},
   "outputs": [],
   "source": [
    "def callTraining(index,train_data,target,folds,params):\n",
    "    aucs_list = list()\n",
    "    feature_ranking = pd.DataFrame()\n",
    "    feature_ranking['feature'] = train_data.columns\n",
    "    max_rds = []\n",
    "    training_start_time = time()\n",
    "    for fold,(trn_idx,test_idx) in enumerate(folds.split(train_data,target)):\n",
    "        start_time = time()\n",
    "        print('Training on fold {}'.format(fold+1))\n",
    "        trn_data = lgb.Dataset(train_data.iloc[trn_idx], label=target.iloc[trn_idx])\n",
    "        val_data = lgb.Dataset(train_data.iloc[test_idx], label=target.iloc[test_idx])\n",
    "        lgb_clf = lgb.train(params, trn_data, 25000, valid_sets = [trn_data, val_data], verbose_eval=1000, early_stopping_rounds=100)\n",
    "        feature_ranking['fold_{}'.format(fold + 1)] = lgb_clf.feature_importance()\n",
    "        aucs_list.append(lgb_clf.best_score['valid_1']['auc'])\n",
    "        max_rds.append(lgb_clf.best_iteration)\n",
    "    print('Fold {} finished in {}'.format(fold + 1, str(dt.timedelta(seconds=time() - start_time))))\n",
    "    print('-' * 30)\n",
    "    print('Training has finished.')\n",
    "    print('Total training time is {}'.format(str(dt.timedelta(seconds=time() - training_start_time))))\n",
    "    print('Mean AUC:', np.mean(aucs_list))\n",
    "    print('-' * 30)\n",
    "    \n",
    "    feature_ranking['average'] = feature_ranking[['fold_{}'.format(fold + 1) for fold in range(folds.n_splits)]].mean(axis=1)\n",
    "    feature_ranking.to_csv('feature_importances{}.csv'.format(index))\n",
    "    best_iter = max(max_rds)\n",
    "    lgb_clf = lgb.LGBMClassifier(**params, num_boost_round=best_iter)\n",
    "    lgb_clf.fit(train_data, target)\n",
    "    filename = 'finalized_model{}.sav'.format(index)\n",
    "    pickle.dump(lgb_clf, open(filename, 'wb'))\n",
    "    \n",
    "    return lgb_clf"
   ]
  },
  {
   "cell_type": "code",
   "execution_count": null,
   "metadata": {},
   "outputs": [],
   "source": [
    "def callPredict(lgb_clf, test_data,result_list, index):\n",
    "    y_pred = lgb_clf.predict_proba(test_data)[:, 1]#convert into binary values\n",
    "    result_list[\"isFraud\"] = y_pred\n",
    "    results = result_list\n",
    "    results.to_csv(\"LGBPredictions{}.csv\".format(index),index=False)"
   ]
  },
  {
   "cell_type": "code",
   "execution_count": null,
   "metadata": {
    "scrolled": false
   },
   "outputs": [],
   "source": [
    "for index in range(len(paramList)):\n",
    "    print(\"Testing model {}\".format(str(index+1)))\n",
    "    trained_model = callTraining(index, train_data,target,folds,paramList[index])\n",
    "    result_copy = result_list.copy()\n",
    "    callPredict(trained_model,test_data,result_copy,index)\n",
    "    f = open(\"params_file.txt\",\"a\")\n",
    "    f.write(json.dumps(paramList[index])+'\\n')\n",
    "    f.close()\n",
    "    plt.bar(range(len(trained_model.feature_importances_)), trained_model.feature_importances_)"
   ]
  },
  {
   "cell_type": "code",
   "execution_count": null,
   "metadata": {},
   "outputs": [],
   "source": []
  },
  {
   "cell_type": "code",
   "execution_count": null,
   "metadata": {},
   "outputs": [],
   "source": []
  }
 ],
 "metadata": {
  "kernelspec": {
   "display_name": "Python 3",
   "language": "python",
   "name": "python3"
  },
  "language_info": {
   "codemirror_mode": {
    "name": "ipython",
    "version": 3
   },
   "file_extension": ".py",
   "mimetype": "text/x-python",
   "name": "python",
   "nbconvert_exporter": "python",
   "pygments_lexer": "ipython3",
   "version": "3.7.4"
  }
 },
 "nbformat": 4,
 "nbformat_minor": 2
}
