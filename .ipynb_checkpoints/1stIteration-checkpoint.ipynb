{
 "cells": [
  {
   "cell_type": "code",
   "execution_count": 1,
   "metadata": {},
   "outputs": [],
   "source": [
    "import pandas as pd\n",
    "import numpy as np\n",
    "import math\n",
    "from datetime import datetime\n",
    "import matplotlib.pyplot as plt\n",
    "from sklearn.model_selection import KFold\n",
    "from sklearn.feature_selection import RFECV\n",
    "import lightgbm as lgb\n",
    "import tqdm\n",
    "from sklearn.metrics import roc_auc_score\n",
    "from sklearn.preprocessing import LabelEncoder\n",
    "import multiprocessing\n",
    "import gc\n",
    "import re"
   ]
  },
  {
   "cell_type": "code",
   "execution_count": 2,
   "metadata": {},
   "outputs": [],
   "source": [
    "files = ['input/test_identity.csv', \n",
    "         'input/test_transaction.csv',\n",
    "         'input/train_identity.csv',\n",
    "         'input/train_transaction.csv',\n",
    "         'input/sample_submission.csv']\n",
    "\n",
    "def load_data(file):\n",
    "    return pd.read_csv(file)\n",
    "\n",
    "# with multiprocessing.Pool() as pool:\n",
    "#     test_id, test_tr, train_id, train_tr, sub = pool.map(load_data, files)\n",
    "test_id = load_data('input/test_identity.csv')\n",
    "test_tr = load_data('input/test_transaction.csv')\n",
    "train_id = load_data('input/train_identity.csv')\n",
    "train_tr = load_data('input/train_transaction.csv')\n",
    "sub = load_data('input/sample_submission.csv')"
   ]
  },
  {
   "cell_type": "code",
   "execution_count": 3,
   "metadata": {
    "scrolled": false
   },
   "outputs": [
    {
     "name": "stdout",
     "output_type": "stream",
     "text": [
      "82 features are going to be dropped for being useless\n",
      "['V68', 'id_22', 'V296', 'V112', 'id_23', 'V102', 'V132', 'V133', 'V26', 'V77', 'id_21', 'V27', 'V311', 'V111', 'V309', 'V101', 'id_25', 'V14', 'V110', 'V293', 'V65', 'V321', 'V117', 'V24', 'V114', 'V305', 'V113', 'V115', 'V290', 'V295', 'id_24', 'V118', 'V55', 'V300', 'id_08', 'V25', 'V316', 'id_07', 'V121', 'V98', 'V284', 'C3', 'V286', 'id_26', 'V106', 'V125', 'id_27', 'V23', 'V124', 'V109', 'V120', 'V103', 'D7', 'V122', 'V107', 'V108', 'V134', 'V104', 'V66', 'V320', 'V129', 'V319', 'id_18', 'V299', 'V298', 'V318', 'V67', 'V135', 'V28', 'V301', 'V119', 'V89', 'V116', 'V88', 'V86', 'V281', 'V297', 'dist2', 'V136', 'V123', 'V105', 'V137']\n"
     ]
    }
   ],
   "source": [
    "train = pd.merge(train_tr, train_id, on='TransactionID', how='left')\n",
    "test = pd.merge(test_tr, test_id, on='TransactionID', how='left')\n",
    "\n",
    "nameMap = {}\n",
    "for col in test.columns:\n",
    "    if '-' in col:\n",
    "        nameMap[col] = col.replace('-','_')\n",
    "test.rename(columns=nameMap, inplace=True)\n",
    "\n",
    "del test_id, test_tr, train_id, train_tr\n",
    "gc.collect()\n",
    "\n",
    "one_value_cols = [col for col in train.columns if train[col].nunique() <= 1]\n",
    "one_value_cols_test = [col for col in test.columns if test[col].nunique() <= 1]\n",
    "\n",
    "many_null_cols = [col for col in train.columns if train[col].isnull().sum() / train.shape[0] > 0.9]\n",
    "many_null_cols_test = [col for col in test.columns if test[col].isnull().sum() / test.shape[0] > 0.9]\n",
    "\n",
    "big_top_value_cols = [col for col in train.columns if train[col].value_counts(dropna=False, normalize=True).values[0] > 0.9]\n",
    "big_top_value_cols_test = [col for col in test.columns if test[col].value_counts(dropna=False, normalize=True).values[0] > 0.9]\n",
    "\n",
    "cols_to_drop = list(set(many_null_cols + many_null_cols_test + big_top_value_cols + big_top_value_cols_test + one_value_cols + one_value_cols_test))\n",
    "cols_to_drop.remove('isFraud')\n",
    "print('{} features are going to be dropped for being useless'.format(len(cols_to_drop)))\n",
    "print(cols_to_drop)\n",
    "\n",
    "train = train.drop(cols_to_drop, axis=1)\n",
    "test = test.drop(cols_to_drop, axis=1)\n"
   ]
  },
  {
   "cell_type": "code",
   "execution_count": 4,
   "metadata": {},
   "outputs": [],
   "source": [
    "def reduce_mem_usage(df, verbose=True):\n",
    "    numerics = ['int16', 'int32', 'int64', 'float16', 'float32', 'float64']\n",
    "    start_mem = df.memory_usage().sum() / 1024**2    \n",
    "    for col in df.columns:\n",
    "        col_type = df[col].dtypes\n",
    "        if col_type in numerics:\n",
    "            c_min = df[col].min()\n",
    "            c_max = df[col].max()\n",
    "            if str(col_type)[:3] == 'int':\n",
    "                if c_min > np.iinfo(np.int8).min and c_max < np.iinfo(np.int8).max:\n",
    "                    df[col] = df[col].astype(np.int8)\n",
    "                elif c_min > np.iinfo(np.int16).min and c_max < np.iinfo(np.int16).max:\n",
    "                    df[col] = df[col].astype(np.int16)\n",
    "                elif c_min > np.iinfo(np.int32).min and c_max < np.iinfo(np.int32).max:\n",
    "                    df[col] = df[col].astype(np.int32)\n",
    "                elif c_min > np.iinfo(np.int64).min and c_max < np.iinfo(np.int64).max:\n",
    "                    df[col] = df[col].astype(np.int64)  \n",
    "            else:\n",
    "                if c_min > np.finfo(np.float16).min and c_max < np.finfo(np.float16).max:\n",
    "                    df[col] = df[col].astype(np.float16)\n",
    "                elif c_min > np.finfo(np.float32).min and c_max < np.finfo(np.float32).max:\n",
    "                    df[col] = df[col].astype(np.float32)\n",
    "                else:\n",
    "                    df[col] = df[col].astype(np.float64)    \n",
    "    end_mem = df.memory_usage().sum() / 1024**2\n",
    "    if verbose: \n",
    "        print('Mem. usage decreased to {:5.2f} Mb ({:.1f}% reduction)'.format(end_mem, 100 * (start_mem - end_mem) / start_mem))\n",
    "    return df"
   ]
  },
  {
   "cell_type": "code",
   "execution_count": 24,
   "metadata": {},
   "outputs": [
    {
     "data": {
      "text/plain": [
       "0          Others\n",
       "1          Others\n",
       "2          Others\n",
       "3          Others\n",
       "4         Samsung\n",
       "           ...   \n",
       "590535     Others\n",
       "590536     Others\n",
       "590537     Others\n",
       "590538     Others\n",
       "590539     Others\n",
       "Name: DeviceInfo, Length: 590540, dtype: object"
      ]
     },
     "execution_count": 24,
     "metadata": {},
     "output_type": "execute_result"
    }
   ],
   "source": [
    "testing1 = train[\"DeviceInfo\"]\n",
    "def findDeviceInfo(inputString):\n",
    "    if re.match(r'.*sm.*',str(inputString).lower()):\n",
    "        return (\"Samsung\")\n",
    "    elif re.match(r'.*sg.*',str(inputString).lower()):\n",
    "        return (\"Samsung\")\n",
    "    elif re.match(r'.*samsung.*',str(inputString).lower()):\n",
    "        return (\"Samsung\")\n",
    "    elif re.match(r'.*gt.*',str(inputString).lower()):\n",
    "        return (\"Samsung\")\n",
    "    elif re.match(r'.*pixel.*',str(inputString).lower()):\n",
    "        return (\"Google\")\n",
    "    elif re.match(r'.*nexus.*',str(inputString).lower()):\n",
    "        return (\"Google\")\n",
    "    elif re.match(r'.*windows.*',str(inputString).lower()):\n",
    "        return (\"Windows\")\n",
    "    elif re.match(r'.*asus.*',str(inputString).lower()):\n",
    "        return (\"ASUS\")\n",
    "    elif re.match(r'.*lg.*',str(inputString).lower()):\n",
    "        return (\"LG\")\n",
    "    elif re.match(r'.*vs.*',str(inputString).lower()):\n",
    "        return (\"LG\")\n",
    "    elif re.match(r'.*ios.*',str(inputString).lower()):\n",
    "        return (\"Apple\")\n",
    "    elif re.match(r'.*macos.*',str(inputString).lower()):\n",
    "        return (\"Apple\")\n",
    "    elif re.match(r'.*moto.*',str(inputString).lower()):\n",
    "        return (\"Motorola\")\n",
    "    elif re.match(r'.*huawei.*',str(inputString).lower()):\n",
    "        return (\"HUAWEI\")\n",
    "    elif re.match(r'.*ale-.*',str(inputString).lower()):\n",
    "        return (\"HUAWEI\")\n",
    "    elif re.match(r'.*-l.*',str(inputString).lower()):\n",
    "        return (\"HUAWEI\")\n",
    "    elif re.match(r'.*blade.*',str(inputString).lower()):\n",
    "        return (\"BLADE\")\n",
    "    elif re.match(r'.*htc.*',str(inputString).lower()):\n",
    "        return (\"HTC\")\n",
    "    elif re.match(r'.*redmi.*',str(inputString).lower()):\n",
    "        return (\"Redmi\")\n",
    "    elif re.match(r'.*lenovo.*',str(inputString).lower()):\n",
    "        return (\"Lenovo\")\n",
    "    elif re.match(r'.*android.*',str(inputString).lower()):\n",
    "        return (\"Android\")\n",
    "    elif re.match(r'.*e5306.*',str(inputString).lower()):\n",
    "        return (\"SONY\")\n",
    "    elif re.match(r'.*f3213.*',str(inputString).lower()):\n",
    "        return (\"SONY\")\n",
    "    elif re.match(r'.*ilium.*',str(inputString).lower()):\n",
    "        return (\"Ilium\")\n",
    "    elif re.match(r'.*trident.*',str(inputString).lower()):\n",
    "        return (\"Trident\")\n",
    "    elif re.match(r'.*rv:.*',str(inputString).lower()):\n",
    "        return (\"Rv\")\n",
    "    elif re.match(r'.*linux.*',str(inputString).lower()):\n",
    "        return (\"Linux\")\n",
    "    elif re.match(r'.*Hisense.*',str(inputString).lower()):\n",
    "        return (\"Hisense\")\n",
    "    else:\n",
    "        return (\"Others\")\n",
    "\n",
    "testing1.apply(findDeviceInfo)"
   ]
  },
  {
   "cell_type": "code",
   "execution_count": 28,
   "metadata": {},
   "outputs": [
    {
     "data": {
      "text/plain": [
       "0    6850\n",
       "1    2900\n",
       "2    5900\n",
       "3    5000\n",
       "4    5000\n",
       "Name: TransactionAmt, dtype: int32"
      ]
     },
     "execution_count": 28,
     "metadata": {},
     "output_type": "execute_result"
    }
   ],
   "source": [
    "testing2 = train[\"TransactionAmt\"]\n",
    "\n",
    "testing2 = testing2*100\n",
    "\n",
    "testing2 = testing2.astype(int)\n",
    "\n",
    "testing2.head()"
   ]
  },
  {
   "cell_type": "code",
   "execution_count": null,
   "metadata": {},
   "outputs": [],
   "source": []
  }
 ],
 "metadata": {
  "kernelspec": {
   "display_name": "Python 3",
   "language": "python",
   "name": "python3"
  },
  "language_info": {
   "codemirror_mode": {
    "name": "ipython",
    "version": 3
   },
   "file_extension": ".py",
   "mimetype": "text/x-python",
   "name": "python",
   "nbconvert_exporter": "python",
   "pygments_lexer": "ipython3",
   "version": "3.7.4"
  }
 },
 "nbformat": 4,
 "nbformat_minor": 4
}
