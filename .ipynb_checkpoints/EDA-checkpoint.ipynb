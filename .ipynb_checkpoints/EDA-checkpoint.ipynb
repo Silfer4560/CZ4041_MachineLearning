{
 "cells": [
  {
   "cell_type": "code",
   "execution_count": null,
   "metadata": {},
   "outputs": [],
   "source": [
    "import pandas as pd\n",
    "import numpy as np\n",
    "import multiprocessing\n",
    "import warnings\n",
    "import matplotlib.pyplot as plt\n",
    "import seaborn as sns\n",
    "import lightgbm as lgb\n",
    "from sklearn import metrics\n",
    "import gc\n",
    "from time import time\n",
    "import datetime\n",
    "from tqdm import tqdm_notebook\n",
    "from sklearn.preprocessing import LabelEncoder\n",
    "from sklearn.model_selection import KFold,GroupKFold\n",
    "from sklearn.metrics import roc_auc_score\n",
    "import pickle\n",
    "import re\n",
    "import tqdm\n",
    "import datetime\n",
    "warnings.simplefilter('ignore')\n",
    "sns.set()\n",
    "%matplotlib inline"
   ]
  },
  {
   "cell_type": "code",
   "execution_count": null,
   "metadata": {},
   "outputs": [],
   "source": [
    "def reduce_mem_usage(df, verbose=True):\n",
    "    numerics = ['int16', 'int32', 'int64', 'float16', 'float32', 'float64']\n",
    "    start_mem = df.memory_usage().sum() / 1024**2    \n",
    "    for col in df.columns:\n",
    "        col_type = df[col].dtypes\n",
    "        if col_type in numerics:\n",
    "            c_min = df[col].min()\n",
    "            c_max = df[col].max()\n",
    "            if str(col_type)[:3] == 'int':\n",
    "                if c_min > np.iinfo(np.int8).min and c_max < np.iinfo(np.int8).max:\n",
    "                    df[col] = df[col].astype(np.int8)\n",
    "                elif c_min > np.iinfo(np.int16).min and c_max < np.iinfo(np.int16).max:\n",
    "                    df[col] = df[col].astype(np.int16)\n",
    "                elif c_min > np.iinfo(np.int32).min and c_max < np.iinfo(np.int32).max:\n",
    "                    df[col] = df[col].astype(np.int32)\n",
    "                elif c_min > np.iinfo(np.int64).min and c_max < np.iinfo(np.int64).max:\n",
    "                    df[col] = df[col].astype(np.int64)  \n",
    "            else:\n",
    "                if c_min > np.finfo(np.float16).min and c_max < np.finfo(np.float16).max:\n",
    "                    df[col] = df[col].astype(np.float16)\n",
    "                elif c_min > np.finfo(np.float32).min and c_max < np.finfo(np.float32).max:\n",
    "                    df[col] = df[col].astype(np.float32)\n",
    "                else:\n",
    "                    df[col] = df[col].astype(np.float64)    \n",
    "    end_mem = df.memory_usage().sum() / 1024**2\n",
    "    if verbose: print('Mem. usage decreased to {:5.2f} Mb ({:.1f}% reduction)'.format(end_mem, 100 * (start_mem - end_mem) / start_mem))\n",
    "    return df"
   ]
  },
  {
   "cell_type": "code",
   "execution_count": null,
   "metadata": {},
   "outputs": [],
   "source": [
    "df_id = pd.read_csv(\"input/train_identity.csv\")\n",
    "df_trans = pd.read_csv(\"input/train_transaction.csv\")\n",
    "\n",
    "\n",
    "\n",
    "test_id = pd.read_csv(\"input/test_identity.csv\")\n",
    "test_trans = pd.read_csv(\"input/test_transaction.csv\")\n",
    "\n",
    "\n",
    "train = pd.merge(df_trans, df_id, on='TransactionID', how='left')\n",
    "test = pd.merge(test_trans, test_id, on='TransactionID', how='left')\n",
    "\n",
    "del df_id,df_trans,test_id,test_trans\n",
    "train = reduce_mem_usage(train)\n",
    "test = reduce_mem_usage(test)\n",
    "\n",
    "START_DATE = '2017-12-01'\n",
    "startdate = datetime.datetime.strptime(START_DATE, \"%Y-%m-%d\")\n",
    "train[\"Date\"] = train['TransactionDT'].apply(lambda x: (startdate + datetime.timedelta(seconds=x)))\n",
    "\n",
    "train['_Weekdays'] = train['Date'].dt.dayofweek\n",
    "train['_Hours'] = train['Date'].dt.hour\n",
    "train['_Days'] = train['Date'].dt.day"
   ]
  },
  {
   "cell_type": "code",
   "execution_count": null,
   "metadata": {},
   "outputs": [],
   "source": [
    "tmp = pd.crosstab(train['_Hours'], train['isFraud'], normalize='index') * 100\n",
    "tmp = tmp.reset_index()\n",
    "tmp.rename(columns={0:'NoFraud', 1:'Fraud'}, inplace=True)\n",
    "tmp['%Fraud']=tmp.Fraud/tmp.NoFraud*100\n",
    "tmp.set_index('_Hours',inplace=True)"
   ]
  },
  {
   "cell_type": "code",
   "execution_count": null,
   "metadata": {},
   "outputs": [],
   "source": [
    "train._Hours.value_counts().sort_index()"
   ]
  },
  {
   "cell_type": "code",
   "execution_count": null,
   "metadata": {},
   "outputs": [],
   "source": [
    "final=train.groupby('_Hours').isFraud.value_counts().unstack().merge(train._Hours.value_counts().sort_index().to_frame(), left_index=True, right_index=True).rename(columns={0:'NoFraud', 1:'Fraud', \"_Hours\":\"Transaction count\"})"
   ]
  },
  {
   "cell_type": "code",
   "execution_count": null,
   "metadata": {},
   "outputs": [],
   "source": [
    "final[\"%Fraud\"]= final.Fraud/final.NoFraud*100"
   ]
  },
  {
   "cell_type": "code",
   "execution_count": null,
   "metadata": {},
   "outputs": [],
   "source": [
    "fig = plt.figure()\n",
    "ax1 = fig.add_subplot(111)\n",
    "final['Transaction count'].plot.bar(ax=ax1)\n",
    "ax1.set_ylabel('Count')\n",
    "\n",
    "ax2 = ax1.twinx()\n",
    "ax2.plot(final['%Fraud'],color='black')\n",
    "ax2.set_ylabel('%Fraud')\n",
    "plt.grid(None) \n",
    "plt.title(\"Distribution of Frauds against Hours\")\n",
    "\n",
    "#plt.savefig(\"asd.png\")"
   ]
  },
  {
   "cell_type": "code",
   "execution_count": null,
   "metadata": {},
   "outputs": [],
   "source": [
    "percent_missing = train.isnull().sum() * 100 / len(train)\n",
    "percent_missing.sort_values(ascending=False).head(30).plot.bar(yticks = range(0,110,10))\n",
    "plt.title(\"train columns\")\n",
    "plt.ylabel(\"% null\")\n",
    "plt.savefig(\"null_graph_train.png\")\n"
   ]
  },
  {
   "cell_type": "code",
   "execution_count": null,
   "metadata": {},
   "outputs": [],
   "source": [
    "percent_missing = test.isnull().sum() * 100 / len(test)\n",
    "percent_missing.sort_values(ascending=False).head(30).plot.bar(yticks = range(0,110,10))\n",
    "plt.title(\"test columns\")\n",
    "plt.ylabel(\"% null\")\n",
    "plt.savefig(\"null_graph_test.png\")\n"
   ]
  },
  {
   "cell_type": "code",
   "execution_count": null,
   "metadata": {},
   "outputs": [],
   "source": [
    "train_dict={}\n",
    "\n",
    "for col in train.columns:\n",
    "    train_dict[col]=(train[col].value_counts(dropna=False, normalize=True).values[0]*100)\n",
    "    \n",
    "tmps = pd.Series(train_dict, name='count')\n",
    "tmps.head(50).sort_values(ascending=False).plot.bar(yticks = range(0,110,10))\n",
    "plt.title(\"train columns\")\n",
    "plt.ylabel(\"% of top value count\")\n",
    "plt.savefig(\"value_proportion_train.png\")"
   ]
  },
  {
   "cell_type": "code",
   "execution_count": null,
   "metadata": {},
   "outputs": [],
   "source": [
    "test_dict={}\n",
    "\n",
    "for col in test.columns:\n",
    "    test_dict[col]=(test[col].value_counts(dropna=False, normalize=True).values[0]*100)\n",
    "    \n",
    "tmps = pd.Series(test_dict, name='count')\n",
    "tmps.head(50).sort_values(ascending=False).plot.bar(yticks = range(0,110,10))\n",
    "plt.title(\"train columns\")\n",
    "plt.ylabel(\"% of top value count\")\n",
    "plt.savefig(\"value_proportion_test.png\")"
   ]
  },
  {
   "cell_type": "code",
   "execution_count": null,
   "metadata": {},
   "outputs": [],
   "source": [
    "total = len(train)\n",
    "tmp = pd.crosstab(train['ProductCD'], train['isFraud'], normalize='index') * 100\n",
    "tmp = tmp.reset_index()\n",
    "tmp.rename(columns={0:'NoFraud', 1:'Fraud'}, inplace=True)\n",
    "\n",
    "plt.figure(figsize=(20,10))\n",
    "\n",
    "plt.subplot(221)\n",
    "g = sns.countplot(x='ProductCD', data=train)\n",
    "# plt.legend(title='Fraud', loc='upper center', labels=['No', 'Yes'])\n",
    "\n",
    "g.set_title(\"Distribution of ProductCD\", fontsize=19)\n",
    "g.set_xlabel(\"Name of ProductCD\", fontsize=17)\n",
    "g.set_ylabel(\"Number of ProductCD\", fontsize=17)\n",
    "g.set_ylim(0,500000)\n",
    "for p in g.patches:\n",
    "    height = p.get_height()\n",
    "    g.text(p.get_x()+p.get_width()/2.,\n",
    "            height + 3,\n",
    "            '{:1.2f}%'.format(height/total*100),\n",
    "            ha=\"center\", fontsize=14)"
   ]
  },
  {
   "cell_type": "code",
   "execution_count": null,
   "metadata": {},
   "outputs": [],
   "source": [
    "tmp = pd.crosstab(train['ProductCD'], train['isFraud'], normalize='index') * 100\n",
    "tmp = tmp.reset_index()\n",
    "tmp.rename(columns={0:'NoFraud', 1:'Fraud'}, inplace=True)\n",
    "\n",
    "plt.figure(figsize=(20,10))\n",
    "\n",
    "plt.subplot(222)\n",
    "g1 = sns.countplot(x='ProductCD', hue='isFraud', data=train)\n",
    "plt.legend(title='Fraud', loc='best', labels=['No', 'Yes'])\n",
    "gt = g1.twinx()\n",
    "gt = sns.pointplot(x='ProductCD', y='Fraud', data=tmp, color='black', legend=False, order=['W','H','C','S','R'])\n",
    "gt.set_ylabel(\"Percentage of ProductCD\", fontsize=16)\n",
    "g1.set_title(\"ProductCD by Target(isFraud)\", fontsize=19)\n",
    "g1.set_xlabel(\"Name of ProductCD\", fontsize=17)\n",
    "g1.set_ylabel(\"Number of ProductCD\", fontsize=17)\n",
    "\n",
    "plt.show()"
   ]
  },
  {
   "cell_type": "code",
   "execution_count": null,
   "metadata": {},
   "outputs": [],
   "source": [
    "total = len(train)\n",
    "tmp = pd.crosstab(train['card4'], train['isFraud'], normalize='index') * 100\n",
    "tmp = tmp.reset_index()\n",
    "tmp.rename(columns={0:'NoFraud', 1:'Fraud'}, inplace=True)\n",
    "\n",
    "plt.figure(figsize=(20,10))\n",
    "\n",
    "plt.subplot(221)\n",
    "g = sns.countplot(x='card4', data=train)\n",
    "# plt.legend(title='Fraud', loc='upper center', labels=['No', 'Yes'])\n",
    "\n",
    "g.set_title(\"Distribution of card4\", fontsize=19)\n",
    "g.set_xlabel(\"Name of card4\", fontsize=17)\n",
    "g.set_ylabel(\"Number of card4\", fontsize=17)\n",
    "g.set_ylim(0,500000)\n",
    "for p in g.patches:\n",
    "    height = p.get_height()\n",
    "    g.text(p.get_x()+p.get_width()/2.,\n",
    "            height + 3,\n",
    "            '{:1.2f}%'.format(height/total*100),\n",
    "            ha=\"center\", fontsize=14)"
   ]
  },
  {
   "cell_type": "code",
   "execution_count": null,
   "metadata": {},
   "outputs": [],
   "source": [
    "tmp = pd.crosstab(train['card4'], train['isFraud'], normalize='index') * 100\n",
    "tmp = tmp.reset_index()\n",
    "tmp.rename(columns={0:'NoFraud', 1:'Fraud'}, inplace=True)\n",
    "\n",
    "plt.figure(figsize=(20,10))\n",
    "\n",
    "plt.subplot(222)\n",
    "g1 = sns.countplot(x='card4', hue='isFraud', data=train)\n",
    "plt.legend(title='Fraud', loc='best', labels=['No', 'Yes'])\n",
    "gt = g1.twinx()\n",
    "gt = sns.pointplot(x='card4', y='Fraud', data=tmp, color='black', legend=False, order=['discover','mastercard','visa','american express'])\n",
    "gt.set_ylabel(\"Percentage of card4\", fontsize=16)\n",
    "g1.set_title(\"card4 by Target(isFraud)\", fontsize=19)\n",
    "g1.set_xlabel(\"Name of card4\", fontsize=17)\n",
    "g1.set_ylabel(\"Number of card4\", fontsize=17)\n",
    "\n",
    "plt.show()"
   ]
  },
  {
   "cell_type": "code",
   "execution_count": null,
   "metadata": {},
   "outputs": [],
   "source": [
    "total = len(train)\n",
    "tmp = pd.crosstab(train['card6'], train['isFraud'], normalize='index') * 100\n",
    "tmp = tmp.reset_index()\n",
    "tmp.rename(columns={0:'NoFraud', 1:'Fraud'}, inplace=True)\n",
    "\n",
    "plt.figure(figsize=(20,10))\n",
    "\n",
    "plt.subplot(221)\n",
    "g = sns.countplot(x='card6', data=train)\n",
    "# plt.legend(title='Fraud', loc='upper center', labels=['No', 'Yes'])\n",
    "\n",
    "g.set_title(\"Distribution of card6\", fontsize=19)\n",
    "g.set_xlabel(\"Name of card6\", fontsize=17)\n",
    "g.set_ylabel(\"Number of card6\", fontsize=17)\n",
    "g.set_ylim(0,500000)\n",
    "for p in g.patches:\n",
    "    height = p.get_height()\n",
    "    g.text(p.get_x()+p.get_width()/2.,\n",
    "            height + 3,\n",
    "            '{:1.2f}%'.format(height/total*100),\n",
    "            ha=\"center\", fontsize=14)"
   ]
  },
  {
   "cell_type": "code",
   "execution_count": null,
   "metadata": {},
   "outputs": [],
   "source": [
    "tmp = pd.crosstab(train['card6'], train['isFraud'], normalize='index') * 100\n",
    "tmp = tmp.reset_index()\n",
    "tmp.rename(columns={0:'NoFraud', 1:'Fraud'}, inplace=True)\n",
    "\n",
    "plt.figure(figsize=(20,10))\n",
    "plt.subplot(222)\n",
    "g1 = sns.countplot(x='card6', hue='isFraud', data=train)\n",
    "plt.legend(title='Fraud', loc='best', labels=['No', 'Yes'])\n",
    "gt = g1.twinx()\n",
    "gt = sns.pointplot(x='card6', y='Fraud', data=tmp, color='black', legend=False, order=['credit','debit','debit or credit','charge card'])\n",
    "gt.set_ylabel(\"Percentage of card6\", fontsize=16)\n",
    "g1.set_title(\"card6 by Target(isFraud)\", fontsize=19)\n",
    "g1.set_xlabel(\"Name of card6\", fontsize=17)\n",
    "g1.set_ylabel(\"Number of card6\", fontsize=17)\n",
    "\n",
    "plt.show()"
   ]
  },
  {
   "cell_type": "code",
   "execution_count": null,
   "metadata": {},
   "outputs": [],
   "source": [
    "continuous = ['TransactionAmt','dist1'] + list(train.filter(regex='^C[0-9]')) + list(train.filter(regex='^D[0-9]')) + list(train.filter(regex='^V'))\n",
    "def fill_nan(df):\n",
    "    for x in list(df.columns.values):\n",
    "        if x in continuous:\n",
    "            df[x] = df[x].fillna(df[x].mean())\n",
    "    return df\n",
    "train_1 = train.copy()\n",
    "train_1 = fill_nan(train)\n",
    "corr=train_1[continuous].corr()\n",
    "plt.figure(figsize = (24,20))\n",
    "plt.title(\"No scaling with fill nan\")\n",
    "sns.heatmap(corr)"
   ]
  }
 ],
 "metadata": {
  "kernelspec": {
   "display_name": "Python 3",
   "language": "python",
   "name": "python3"
  },
  "language_info": {
   "codemirror_mode": {
    "name": "ipython",
    "version": 3
   },
   "file_extension": ".py",
   "mimetype": "text/x-python",
   "name": "python",
   "nbconvert_exporter": "python",
   "pygments_lexer": "ipython3",
   "version": "3.7.4"
  }
 },
 "nbformat": 4,
 "nbformat_minor": 4
}
