{
 "cells": [
  {
   "cell_type": "code",
   "execution_count": 1,
   "metadata": {},
   "outputs": [],
   "source": [
    "#  Libraries\n",
    "import tqdm\n",
    "import numpy as np \n",
    "import pandas as pd\n",
    "from time import time\n",
    "import datetime as dt\n",
    "import pickle\n",
    "import gc\n",
    "# Data processing, metrics and modeling\n",
    "from sklearn.preprocessing import LabelEncoder\n",
    "from sklearn.model_selection import train_test_split, StratifiedKFold,KFold, TimeSeriesSplit\n",
    "from bayes_opt import BayesianOptimization\n",
    "from sklearn.metrics import precision_score, recall_score, confusion_matrix, accuracy_score, roc_auc_score, f1_score, roc_curve, auc,precision_recall_curve\n",
    "from sklearn import metrics\n",
    "from sklearn import preprocessing\n",
    "# Lgbm\n",
    "import lightgbm as lgb\n",
    "# Suppr warning\n",
    "import warnings\n",
    "warnings.filterwarnings(\"ignore\")\n",
    "import json\n",
    "\n",
    "import itertools\n",
    "from scipy import interp\n",
    "\n",
    "# Plots\n",
    "import seaborn as sns\n",
    "import matplotlib.pyplot as plt\n",
    "%matplotlib inline\n",
    "from matplotlib import rcParams"
   ]
  },
  {
   "cell_type": "code",
   "execution_count": 2,
   "metadata": {},
   "outputs": [
    {
     "name": "stdout",
     "output_type": "stream",
     "text": [
      "['TransactionAmt', 'ProductCD', 'card1', 'card2', 'card3', 'card4', 'card5', 'card6', 'addr1', 'dist1', 'P_emaildomain', 'R_emaildomain', 'C1', 'C2', 'C4', 'C5', 'C6', 'C7', 'C8', 'C9', 'C10', 'C11', 'C12', 'C13', 'C14', 'D1', 'D2', 'D3', 'D4', 'D5', 'D6', 'D8', 'D9', 'D10', 'D11', 'D12', 'D13', 'D14', 'D15', 'M2', 'M3', 'M4', 'M5', 'M6', 'M7', 'M8', 'M9', 'V2', 'V3', 'V4', 'V5', 'V6', 'V7', 'V10', 'V11', 'V12', 'V13', 'V19', 'V20', 'V29', 'V30', 'V34', 'V35', 'V36', 'V37', 'V38', 'V40', 'V44', 'V45', 'V47', 'V48', 'V49', 'V52', 'V53', 'V54', 'V56', 'V61', 'V62', 'V63', 'V64', 'V69', 'V70', 'V74', 'V75', 'V76', 'V78', 'V81', 'V82', 'V83', 'V85', 'V87', 'V90', 'V91', 'V94', 'V95', 'V96', 'V99', 'V126', 'V127', 'V128', 'V130', 'V131', 'V139', 'V140', 'V143', 'V149', 'V150', 'V152', 'V156', 'V159', 'V160', 'V164', 'V165', 'V166', 'V170', 'V187', 'V189', 'V202', 'V203', 'V204', 'V205', 'V206', 'V207', 'V208', 'V209', 'V210', 'V212', 'V213', 'V214', 'V215', 'V218', 'V220', 'V221', 'V222', 'V224', 'V229', 'V234', 'V251', 'V257', 'V258', 'V259', 'V261', 'V262', 'V263', 'V264', 'V265', 'V266', 'V267', 'V268', 'V270', 'V271', 'V272', 'V274', 'V277', 'V278', 'V279', 'V280', 'V282', 'V283', 'V285', 'V288', 'V289', 'V291', 'V292', 'V294', 'V303', 'V306', 'V307', 'V308', 'V310', 'V312', 'V313', 'V314', 'V315', 'V317', 'V323', 'V332', 'V335', 'V338', 'id_01', 'id_02', 'id_03', 'id_05', 'id_06', 'id_09', 'id_11', 'id_13', 'id_14', 'id_17', 'id_19', 'id_20', 'id_32', 'id_33', 'id_37', 'id_38', 'DeviceType', 'DeviceInfo', 'OS_id_30', 'version_id_30', 'browser', 'b_version']\n"
     ]
    }
   ],
   "source": [
    "#import in dataset\n",
    "f = open(\"features_optimized.txt\",\"r\")\n",
    "features_list = []\n",
    "features_list = f.read().splitlines()\n",
    "f.close()\n",
    "print (features_list)\n",
    "\n",
    "train = pd.read_csv(\"train_prepared.csv\")\n",
    "test = pd.read_csv(\"test_prepared.csv\")"
   ]
  },
  {
   "cell_type": "code",
   "execution_count": 3,
   "metadata": {},
   "outputs": [],
   "source": [
    "def reduce_mem_usage(df, verbose=True):\n",
    "    numerics = ['int16', 'int32', 'int64', 'float16', 'float32', 'float64']\n",
    "    start_mem = df.memory_usage().sum() / 1024**2    \n",
    "    for col in df.columns:\n",
    "        col_type = df[col].dtypes\n",
    "        if col_type in numerics:\n",
    "            c_min = df[col].min()\n",
    "            c_max = df[col].max()\n",
    "            if str(col_type)[:3] == 'int':\n",
    "                if c_min > np.iinfo(np.int8).min and c_max < np.iinfo(np.int8).max:\n",
    "                    df[col] = df[col].astype(np.int8)\n",
    "                elif c_min > np.iinfo(np.int16).min and c_max < np.iinfo(np.int16).max:\n",
    "                    df[col] = df[col].astype(np.int16)\n",
    "                elif c_min > np.iinfo(np.int32).min and c_max < np.iinfo(np.int32).max:\n",
    "                    df[col] = df[col].astype(np.int32)\n",
    "                elif c_min > np.iinfo(np.int64).min and c_max < np.iinfo(np.int64).max:\n",
    "                    df[col] = df[col].astype(np.int64)  \n",
    "            else:\n",
    "                if c_min > np.finfo(np.float16).min and c_max < np.finfo(np.float16).max:\n",
    "                    df[col] = df[col].astype(np.float16)\n",
    "                elif c_min > np.finfo(np.float32).min and c_max < np.finfo(np.float32).max:\n",
    "                    df[col] = df[col].astype(np.float32)\n",
    "                else:\n",
    "                    df[col] = df[col].astype(np.float64)    \n",
    "    end_mem = df.memory_usage().sum() / 1024**2\n",
    "    if verbose: \n",
    "        print('Mem. usage decreased to {:5.2f} Mb ({:.1f}% reduction)'.format(end_mem, 100 * (start_mem - end_mem) / start_mem))\n",
    "    return df"
   ]
  },
  {
   "cell_type": "code",
   "execution_count": 4,
   "metadata": {},
   "outputs": [
    {
     "name": "stderr",
     "output_type": "stream",
     "text": [
      "100%|███████████████████████████████████████████████████████████████████████████████████████████████████████████████████████████████████████████████████████████████| 355/355 [00:28<00:00, 12.36it/s]\n"
     ]
    }
   ],
   "source": [
    "#encode the dataframe\n",
    "for col in tqdm.tqdm(train.columns): \n",
    "    if train[col].dtype == 'object':\n",
    "        le = LabelEncoder()\n",
    "        le.fit(list(train[col].astype(str).values) + list(test[col].astype(str).values))\n",
    "        train[col] = le.transform(list(train[col].astype(str).values))\n",
    "        test[col] = le.transform(list(test[col].astype(str).values))  "
   ]
  },
  {
   "cell_type": "code",
   "execution_count": 5,
   "metadata": {},
   "outputs": [
    {
     "name": "stdout",
     "output_type": "stream",
     "text": [
      "Mem. usage decreased to 425.77 Mb (73.4% reduction)\n",
      "Mem. usage decreased to 372.56 Mb (72.8% reduction)\n"
     ]
    }
   ],
   "source": [
    "#reduce mem usage\n",
    "train = reduce_mem_usage(train)\n",
    "test = reduce_mem_usage(test)"
   ]
  },
  {
   "cell_type": "code",
   "execution_count": 6,
   "metadata": {},
   "outputs": [],
   "source": [
    "#isolate test and traindata\n",
    "test_data = test[features_list]\n",
    "train_data = train[features_list]"
   ]
  },
  {
   "cell_type": "code",
   "execution_count": 7,
   "metadata": {},
   "outputs": [],
   "source": [
    "result_list = test[\"TransactionID\"].to_frame(name=\"TransactionID\")\n",
    "mydf = train['isFraud']\n",
    "target = mydf"
   ]
  },
  {
   "cell_type": "code",
   "execution_count": 8,
   "metadata": {},
   "outputs": [
    {
     "data": {
      "text/plain": [
       "60"
      ]
     },
     "execution_count": 8,
     "metadata": {},
     "output_type": "execute_result"
    }
   ],
   "source": [
    "del(test)\n",
    "del(train)\n",
    "gc.collect()"
   ]
  },
  {
   "cell_type": "code",
   "execution_count": 9,
   "metadata": {},
   "outputs": [],
   "source": [
    "#create lgb dataset from train set\n",
    "# d_train = lgb.Dataset(train_data, label=target)"
   ]
  },
  {
   "cell_type": "code",
   "execution_count": 10,
   "metadata": {},
   "outputs": [],
   "source": [
    "# #Declare params here\n",
    "#highest score\n",
    "params= {'num_leaves': 250,\n",
    "          'min_child_weight': 0.1,\n",
    "          'feature_fraction': 0.5,\n",
    "          'bagging_fraction': 0.5,\n",
    "          'min_data_in_leaf': 256,\n",
    "          'bagging_freq': 5,\n",
    "          'objective': 'binary',\n",
    "          'max_depth': -1, \n",
    "          'learning_rate': 0.001,\n",
    "          \"boosting_type\": \"gbdt\", \n",
    "          \"bagging_seed\": 4041,   \n",
    "          \"feature_fraction_seed\":4041, \n",
    "          \"metric\": 'auc',       \n",
    "          'reg_alpha': 0.,        \n",
    "          'reg_lambda': 2.,      \n",
    "         } \n",
    "#change to num leaves\n",
    "params3= {'num_leaves': 250,\n",
    "          'min_child_weight': 0.1,\n",
    "          'feature_fraction': 0.5,\n",
    "          'bagging_fraction': 0.5,\n",
    "          'min_data_in_leaf': 256,\n",
    "          'bagging_freq': 5,\n",
    "          'objective': 'binary',\n",
    "          'max_depth': -1,\n",
    "          'learning_rate': 0.1,\n",
    "          \"boosting_type\": \"gbdt\",\n",
    "          \"bagging_seed\": 4041,\n",
    "          \"feature_fraction_seed\":4041,\n",
    "          \"metric\": 'auc',\n",
    "          'reg_alpha': 1.,\n",
    "          'reg_lambda': 2.,\n",
    "         }\n",
    "\n",
    "\n",
    "paramList = [params3]"
   ]
  },
  {
   "cell_type": "code",
   "execution_count": 11,
   "metadata": {},
   "outputs": [],
   "source": [
    "#catboost params here\n",
    "#paramList = [params,params1,params2,params3,params4]"
   ]
  },
  {
   "cell_type": "code",
   "execution_count": 12,
   "metadata": {},
   "outputs": [],
   "source": [
    "#prepare folds for validation\n",
    "folds = KFold(n_splits=5, shuffle=False)\n",
    "#using 6 for K as data set is a 6 month long dataset."
   ]
  },
  {
   "cell_type": "code",
   "execution_count": 13,
   "metadata": {},
   "outputs": [],
   "source": [
    "def callTraining(index,train_data,target,folds,params):\n",
    "    aucs_list = list()\n",
    "    feature_ranking = pd.DataFrame()\n",
    "    feature_ranking['feature'] = train_data.columns\n",
    "    max_rds = []\n",
    "    training_start_time = time()\n",
    "    for fold,(trn_idx,test_idx) in enumerate(folds.split(train_data,target)):\n",
    "        start_time = time()\n",
    "        print('Training on fold {}'.format(fold+1))\n",
    "        trn_data = lgb.Dataset(train_data.iloc[trn_idx], label=target.iloc[trn_idx])\n",
    "        val_data = lgb.Dataset(train_data.iloc[test_idx], label=target.iloc[test_idx])\n",
    "        clf = lgb.train(params, trn_data, 25000, valid_sets = [trn_data, val_data], verbose_eval=1000, early_stopping_rounds=100)\n",
    "        feature_ranking['fold_{}'.format(fold + 1)] = clf.feature_importance()\n",
    "        aucs_list.append(clf.best_score['valid_1']['auc'])\n",
    "        max_rds.append(clf.best_iteration)\n",
    "    print('Fold {} finished in {}'.format(fold + 1, str(dt.timedelta(seconds=time() - start_time))))\n",
    "    print('-' * 30)\n",
    "    print('Training has finished.')\n",
    "    print('Total training time is {}'.format(str(dt.timedelta(seconds=time() - training_start_time))))\n",
    "    print('Mean AUC:', np.mean(aucs_list))\n",
    "    print('-' * 30)\n",
    "    \n",
    "    feature_ranking['average'] = feature_ranking[['fold_{}'.format(fold + 1) for fold in range(folds.n_splits)]].mean(axis=1)\n",
    "    feature_ranking.to_csv('feature_importances{}.csv'.format(index))\n",
    "    best_iter = max(max_rds)\n",
    "    clf = lgb.LGBMClassifier(**params, num_boost_round=best_iter)\n",
    "    clf.fit(train_data, target)\n",
    "    filename = 'finalized_model{}.sav'.format(index)\n",
    "    pickle.dump(clf, open(filename, 'wb'))\n",
    "    \n",
    "    return clf"
   ]
  },
  {
   "cell_type": "code",
   "execution_count": 14,
   "metadata": {},
   "outputs": [],
   "source": [
    "def callPredict(clf, test_data,result_list, index):\n",
    "    y_pred = clf.predict_proba(test_data)[:, 1]#convert into binary values\n",
    "#     for i in range(len(test_data)):\n",
    "#         if y_pred[i]>=.5:       # setting threshold to .5\n",
    "#                y_pred[i]=1\n",
    "#         else:  \n",
    "#                y_pred[i]=0\n",
    "    result_list[\"isFraud\"] = y_pred\n",
    "    results = result_list\n",
    "    results.to_csv(\"predictions{}.csv\".format(index),index=False)"
   ]
  },
  {
   "cell_type": "code",
   "execution_count": 15,
   "metadata": {
    "scrolled": false
   },
   "outputs": [
    {
     "name": "stdout",
     "output_type": "stream",
     "text": [
      "Testing model 1\n",
      "Training on fold 1\n",
      "Training until validation scores don't improve for 100 rounds\n",
      "[1000]\ttraining's auc: 0.921526\tvalid_1's auc: 0.872195\n",
      "[2000]\ttraining's auc: 0.935798\tvalid_1's auc: 0.881474\n",
      "[3000]\ttraining's auc: 0.948524\tvalid_1's auc: 0.889735\n",
      "[4000]\ttraining's auc: 0.959038\tvalid_1's auc: 0.896791\n",
      "[5000]\ttraining's auc: 0.967039\tvalid_1's auc: 0.902145\n",
      "[6000]\ttraining's auc: 0.972881\tvalid_1's auc: 0.905665\n",
      "[7000]\ttraining's auc: 0.977296\tvalid_1's auc: 0.908026\n",
      "[8000]\ttraining's auc: 0.980685\tvalid_1's auc: 0.909641\n",
      "[9000]\ttraining's auc: 0.983363\tvalid_1's auc: 0.910848\n",
      "[10000]\ttraining's auc: 0.985537\tvalid_1's auc: 0.911708\n",
      "[11000]\ttraining's auc: 0.987343\tvalid_1's auc: 0.912319\n",
      "[12000]\ttraining's auc: 0.988871\tvalid_1's auc: 0.9128\n",
      "[13000]\ttraining's auc: 0.990146\tvalid_1's auc: 0.913151\n",
      "Early stopping, best iteration is:\n",
      "[13726]\ttraining's auc: 0.99096\tvalid_1's auc: 0.913389\n",
      "Training on fold 2\n",
      "Training until validation scores don't improve for 100 rounds\n",
      "[1000]\ttraining's auc: 0.920609\tvalid_1's auc: 0.892216\n",
      "[2000]\ttraining's auc: 0.934976\tvalid_1's auc: 0.900174\n",
      "[3000]\ttraining's auc: 0.947913\tvalid_1's auc: 0.907825\n",
      "[4000]\ttraining's auc: 0.958551\tvalid_1's auc: 0.914193\n",
      "[5000]\ttraining's auc: 0.966571\tvalid_1's auc: 0.918804\n",
      "[6000]\ttraining's auc: 0.97252\tvalid_1's auc: 0.92203\n",
      "[7000]\ttraining's auc: 0.97709\tvalid_1's auc: 0.924406\n",
      "[8000]\ttraining's auc: 0.980678\tvalid_1's auc: 0.925989\n",
      "[9000]\ttraining's auc: 0.983498\tvalid_1's auc: 0.927146\n",
      "[10000]\ttraining's auc: 0.98578\tvalid_1's auc: 0.928214\n",
      "[11000]\ttraining's auc: 0.987675\tvalid_1's auc: 0.928824\n",
      "[12000]\ttraining's auc: 0.989277\tvalid_1's auc: 0.929258\n",
      "[13000]\ttraining's auc: 0.990625\tvalid_1's auc: 0.929772\n",
      "Early stopping, best iteration is:\n",
      "[13387]\ttraining's auc: 0.991071\tvalid_1's auc: 0.929894\n",
      "Training on fold 3\n",
      "Training until validation scores don't improve for 100 rounds\n",
      "[1000]\ttraining's auc: 0.92256\tvalid_1's auc: 0.892191\n",
      "[2000]\ttraining's auc: 0.936922\tvalid_1's auc: 0.900257\n",
      "[3000]\ttraining's auc: 0.949623\tvalid_1's auc: 0.907909\n",
      "[4000]\ttraining's auc: 0.959943\tvalid_1's auc: 0.914279\n",
      "[5000]\ttraining's auc: 0.967698\tvalid_1's auc: 0.918808\n",
      "[6000]\ttraining's auc: 0.973401\tvalid_1's auc: 0.921719\n",
      "[7000]\ttraining's auc: 0.977782\tvalid_1's auc: 0.923816\n",
      "[8000]\ttraining's auc: 0.981239\tvalid_1's auc: 0.925313\n",
      "[9000]\ttraining's auc: 0.983953\tvalid_1's auc: 0.926288\n",
      "[10000]\ttraining's auc: 0.986146\tvalid_1's auc: 0.92704\n",
      "[11000]\ttraining's auc: 0.987991\tvalid_1's auc: 0.927585\n",
      "[12000]\ttraining's auc: 0.98955\tvalid_1's auc: 0.928001\n",
      "[13000]\ttraining's auc: 0.990845\tvalid_1's auc: 0.928313\n",
      "Early stopping, best iteration is:\n",
      "[13497]\ttraining's auc: 0.991405\tvalid_1's auc: 0.928471\n",
      "Training on fold 4\n",
      "Training until validation scores don't improve for 100 rounds\n",
      "[1000]\ttraining's auc: 0.918137\tvalid_1's auc: 0.906655\n",
      "[2000]\ttraining's auc: 0.932663\tvalid_1's auc: 0.915531\n",
      "[3000]\ttraining's auc: 0.94608\tvalid_1's auc: 0.923994\n",
      "[4000]\ttraining's auc: 0.957387\tvalid_1's auc: 0.93078\n",
      "[5000]\ttraining's auc: 0.965682\tvalid_1's auc: 0.935381\n",
      "[6000]\ttraining's auc: 0.971829\tvalid_1's auc: 0.938496\n",
      "[7000]\ttraining's auc: 0.976511\tvalid_1's auc: 0.940664\n",
      "[8000]\ttraining's auc: 0.980148\tvalid_1's auc: 0.942204\n",
      "[9000]\ttraining's auc: 0.983041\tvalid_1's auc: 0.943381\n",
      "[10000]\ttraining's auc: 0.985372\tvalid_1's auc: 0.944173\n",
      "[11000]\ttraining's auc: 0.987329\tvalid_1's auc: 0.944847\n",
      "[12000]\ttraining's auc: 0.988953\tvalid_1's auc: 0.945328\n",
      "[13000]\ttraining's auc: 0.990336\tvalid_1's auc: 0.945698\n",
      "[14000]\ttraining's auc: 0.991505\tvalid_1's auc: 0.945974\n",
      "[15000]\ttraining's auc: 0.992523\tvalid_1's auc: 0.946197\n",
      "Early stopping, best iteration is:\n",
      "[15426]\ttraining's auc: 0.992909\tvalid_1's auc: 0.946305\n",
      "Training on fold 5\n",
      "Training until validation scores don't improve for 100 rounds\n",
      "[1000]\ttraining's auc: 0.920575\tvalid_1's auc: 0.884596\n",
      "[2000]\ttraining's auc: 0.935352\tvalid_1's auc: 0.895113\n",
      "[3000]\ttraining's auc: 0.948362\tvalid_1's auc: 0.903934\n",
      "[4000]\ttraining's auc: 0.959081\tvalid_1's auc: 0.910485\n",
      "[5000]\ttraining's auc: 0.967026\tvalid_1's auc: 0.914911\n",
      "[6000]\ttraining's auc: 0.972899\tvalid_1's auc: 0.91761\n",
      "[7000]\ttraining's auc: 0.977329\tvalid_1's auc: 0.919457\n",
      "[8000]\ttraining's auc: 0.980782\tvalid_1's auc: 0.920661\n",
      "[9000]\ttraining's auc: 0.983528\tvalid_1's auc: 0.92154\n",
      "[10000]\ttraining's auc: 0.985743\tvalid_1's auc: 0.922088\n",
      "Early stopping, best iteration is:\n",
      "[10669]\ttraining's auc: 0.987033\tvalid_1's auc: 0.922409\n",
      "Fold 5 finished in 0:21:21.255693\n",
      "------------------------------\n",
      "Training has finished.\n",
      "Total training time is 2:20:37.189270\n",
      "Mean AUC: 0.9280937381819945\n",
      "------------------------------\n"
     ]
    }
   ],
   "source": [
    "for index in range(len(paramList)):\n",
    "    print(\"Testing model {}\".format(str(index+1)))\n",
    "    trained_model = callTraining(index, train_data,target,folds,paramList[index])\n",
    "    result_copy = result_list.copy()\n",
    "    callPredict(trained_model,test_data,result_copy,index)\n",
    "    f = open(\"params_file.txt\",\"a\")\n",
    "    f.write(json.dumps(paramList[index])+'\\n')\n",
    "    f.close()\n",
    "    plt.bar(range(len(trained_model.feature_importances_)), trained_model.feature_importances_)"
   ]
  },
  {
   "cell_type": "code",
   "execution_count": null,
   "metadata": {},
   "outputs": [],
   "source": []
  },
  {
   "cell_type": "code",
   "execution_count": null,
   "metadata": {},
   "outputs": [],
   "source": []
  }
 ],
 "metadata": {
  "kernelspec": {
   "display_name": "Python 3",
   "language": "python",
   "name": "python3"
  },
  "language_info": {
   "codemirror_mode": {
    "name": "ipython",
    "version": 3
   },
   "file_extension": ".py",
   "mimetype": "text/x-python",
   "name": "python",
   "nbconvert_exporter": "python",
   "pygments_lexer": "ipython3",
   "version": "3.7.4"
  }
 },
 "nbformat": 4,
 "nbformat_minor": 2
}
