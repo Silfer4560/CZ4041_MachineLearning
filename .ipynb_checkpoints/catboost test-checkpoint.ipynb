{
 "cells": [
  {
   "cell_type": "code",
   "execution_count": 1,
   "metadata": {},
   "outputs": [],
   "source": [
    "# General imports\n",
    "import numpy as np\n",
    "import pandas as pd\n",
    "import os, sys, gc, warnings, random\n",
    "import statistics\n",
    "import pandas as pd\n",
    "pd.set_option('display.max_rows', 500)\n",
    "pd.set_option('display.max_columns', 500)\n",
    "pd.set_option('display.width', 1000)\n",
    "\n",
    "from sklearn.model_selection import train_test_split, StratifiedKFold\n",
    "from sklearn.preprocessing import LabelEncoder\n",
    "\n",
    "from catboost import CatBoostClassifier, Pool, cv\n",
    "from sklearn.metrics import auc\n",
    "from sklearn import metrics\n",
    "import tqdm\n",
    "\n",
    "import math\n",
    "warnings.filterwarnings('ignore')\n",
    "\n",
    "SEED = 4041"
   ]
  },
  {
   "cell_type": "code",
   "execution_count": 2,
   "metadata": {
    "scrolled": false
   },
   "outputs": [
    {
     "name": "stdout",
     "output_type": "stream",
     "text": [
      "['TransactionAmt', 'ProductCD', 'card1', 'card2', 'card3', 'card4', 'card5', 'card6', 'addr1', 'dist1', 'P_emaildomain', 'R_emaildomain', 'C1', 'C2', 'C4', 'C5', 'C6', 'C7', 'C8', 'C9', 'C10', 'C11', 'C12', 'C13', 'C14', 'D1', 'D2', 'D3', 'D4', 'D5', 'D6', 'D8', 'D9', 'D10', 'D11', 'D12', 'D13', 'D14', 'D15', 'M2', 'M3', 'M4', 'M5', 'M6', 'M7', 'M8', 'M9', 'V2', 'V3', 'V4', 'V5', 'V6', 'V7', 'V10', 'V11', 'V12', 'V13', 'V19', 'V20', 'V29', 'V30', 'V34', 'V35', 'V36', 'V37', 'V38', 'V40', 'V44', 'V45', 'V47', 'V48', 'V49', 'V52', 'V53', 'V54', 'V56', 'V61', 'V62', 'V63', 'V64', 'V69', 'V70', 'V74', 'V75', 'V76', 'V78', 'V81', 'V82', 'V83', 'V85', 'V87', 'V90', 'V91', 'V94', 'V95', 'V96', 'V99', 'V126', 'V127', 'V128', 'V130', 'V131', 'V139', 'V140', 'V143', 'V149', 'V150', 'V152', 'V156', 'V159', 'V160', 'V164', 'V165', 'V166', 'V170', 'V187', 'V189', 'V202', 'V203', 'V204', 'V205', 'V206', 'V207', 'V208', 'V209', 'V210', 'V212', 'V213', 'V214', 'V215', 'V218', 'V220', 'V221', 'V222', 'V224', 'V229', 'V234', 'V251', 'V257', 'V258', 'V259', 'V261', 'V262', 'V263', 'V264', 'V265', 'V266', 'V267', 'V268', 'V270', 'V271', 'V272', 'V274', 'V277', 'V278', 'V279', 'V280', 'V282', 'V283', 'V285', 'V288', 'V289', 'V291', 'V292', 'V294', 'V303', 'V306', 'V307', 'V308', 'V310', 'V312', 'V313', 'V314', 'V315', 'V317', 'V323', 'V332', 'V335', 'V338', 'id_01', 'id_02', 'id_03', 'id_05', 'id_06', 'id_09', 'id_11', 'id_13', 'id_14', 'id_17', 'id_19', 'id_20', 'id_32', 'id_33', 'id_37', 'id_38', 'DeviceType', 'DeviceInfo', 'OS_id_30', 'version_id_30', 'browser', 'b_version']\n"
     ]
    }
   ],
   "source": [
    "#import in dataset\n",
    "f = open(\"features_optimized.txt\",\"r\")\n",
    "features_list = []\n",
    "features_list = f.read().splitlines()\n",
    "f.close()\n",
    "print (features_list)\n",
    "\n",
    "train = pd.read_csv(\"train_prepared.csv\")\n",
    "test = pd.read_csv(\"test_prepared.csv\")"
   ]
  },
  {
   "cell_type": "code",
   "execution_count": 3,
   "metadata": {},
   "outputs": [],
   "source": [
    "def reduce_mem_usage(df, verbose=True):\n",
    "    numerics = ['int16', 'int32', 'int64', 'float16', 'float32', 'float64']\n",
    "    start_mem = df.memory_usage().sum() / 1024**2    \n",
    "    for col in df.columns:\n",
    "        col_type = df[col].dtypes\n",
    "        if col_type in numerics:\n",
    "            c_min = df[col].min()\n",
    "            c_max = df[col].max()\n",
    "            if str(col_type)[:3] == 'int':\n",
    "                if c_min > np.iinfo(np.int8).min and c_max < np.iinfo(np.int8).max:\n",
    "                    df[col] = df[col].astype(np.int8)\n",
    "                elif c_min > np.iinfo(np.int16).min and c_max < np.iinfo(np.int16).max:\n",
    "                    df[col] = df[col].astype(np.int16)\n",
    "                elif c_min > np.iinfo(np.int32).min and c_max < np.iinfo(np.int32).max:\n",
    "                    df[col] = df[col].astype(np.int32)\n",
    "                elif c_min > np.iinfo(np.int64).min and c_max < np.iinfo(np.int64).max:\n",
    "                    df[col] = df[col].astype(np.int64)  \n",
    "            else:\n",
    "                if c_min > np.finfo(np.float16).min and c_max < np.finfo(np.float16).max:\n",
    "                    df[col] = df[col].astype(np.float16)\n",
    "                elif c_min > np.finfo(np.float32).min and c_max < np.finfo(np.float32).max:\n",
    "                    df[col] = df[col].astype(np.float32)\n",
    "                else:\n",
    "                    df[col] = df[col].astype(np.float64)    \n",
    "    end_mem = df.memory_usage().sum() / 1024**2\n",
    "    if verbose: \n",
    "        print('Mem. usage decreased to {:5.2f} Mb ({:.1f}% reduction)'.format(end_mem, 100 * (start_mem - end_mem) / start_mem))\n",
    "    return df"
   ]
  },
  {
   "cell_type": "code",
   "execution_count": 4,
   "metadata": {},
   "outputs": [],
   "source": [
    "#fill nan with -999\n",
    "test.fillna(-999,inplace=True)\n",
    "train.fillna(-999,inplace=True)"
   ]
  },
  {
   "cell_type": "code",
   "execution_count": 5,
   "metadata": {},
   "outputs": [
    {
     "name": "stderr",
     "output_type": "stream",
     "text": [
      "100%|████████████████████████████████████████████████████████████████████████████████| 355/355 [00:42<00:00,  8.35it/s]\n"
     ]
    }
   ],
   "source": [
    "#encode the dataframe\n",
    "for col in tqdm.tqdm(train.columns): \n",
    "    if train[col].dtype == 'object':\n",
    "        le = LabelEncoder()\n",
    "        le.fit(list(train[col].astype(str).values) + list(test[col].astype(str).values))\n",
    "        train[col] = le.transform(list(train[col].astype(str).values))\n",
    "        test[col] = le.transform(list(test[col].astype(str).values))"
   ]
  },
  {
   "cell_type": "code",
   "execution_count": 6,
   "metadata": {},
   "outputs": [
    {
     "name": "stdout",
     "output_type": "stream",
     "text": [
      "Mem. usage decreased to 425.77 Mb (73.4% reduction)\n",
      "Mem. usage decreased to 372.56 Mb (72.8% reduction)\n"
     ]
    }
   ],
   "source": [
    "#reduce mem usage\n",
    "train = reduce_mem_usage(train)\n",
    "test = reduce_mem_usage(test)"
   ]
  },
  {
   "cell_type": "code",
   "execution_count": 7,
   "metadata": {},
   "outputs": [],
   "source": [
    "#define catboost parameters\n",
    "cat_params = {\n",
    "    'loss_function': 'Logloss',\n",
    "    'eval_metric':'AUC',\n",
    "    'iterations' : 10000,\n",
    "    'learning_rate' : 0.05,\n",
    "    'random_seed' : SEED,\n",
    "    'metric_period':500,\n",
    "    'od_wait':500,\n",
    "    'use_best_model' : True,\n",
    "    'depth' : 12,\n",
    "    'l2_leaf_reg':20,\n",
    "    'min_data_in_leaf' : 256,\n",
    "#     'early_stopping_rounds' : 200,\n",
    "    'task_type' : 'GPU',\n",
    "    'verbose': True\n",
    "}\n",
    "cat_params1 = {\n",
    "    'loss_function': 'Logloss',\n",
    "    'eval_metric':'AUC',\n",
    "    'iterations' : 10000,\n",
    "    'learning_rate' : 0.05,\n",
    "    'random_seed' : SEED,\n",
    "    'metric_period':500,\n",
    "    'od_wait':500,\n",
    "    'l2_leaf_reg':20,\n",
    "    'use_best_model' : True,\n",
    "    'depth' : 10,\n",
    "    'min_data_in_leaf' : 256,\n",
    "#     'early_stopping_rounds' : 200,\n",
    "    'task_type' : 'GPU',\n",
    "    'verbose': True\n",
    "}\n",
    "cat_params2 = {\n",
    "    'loss_function': 'Logloss',\n",
    "    'eval_metric':'AUC',\n",
    "    'iterations' : 10000,\n",
    "    'learning_rate' : 0.05,\n",
    "    'random_seed' : SEED,\n",
    "    'metric_period':500,\n",
    "    'od_wait':500,\n",
    "    'l2_leaf_reg':60,\n",
    "    'use_best_model' : True,\n",
    "    'depth' : 10,\n",
    "    'min_data_in_leaf' : 256,\n",
    "#     'early_stopping_rounds' : 200,\n",
    "    'task_type' : 'GPU',\n",
    "    'verbose': True\n",
    "}\n",
    "cat_params3 = {\n",
    "    'loss_function': 'Logloss',\n",
    "    'eval_metric':'AUC',\n",
    "    'iterations' : 10000,\n",
    "    'learning_rate' : 0.05,\n",
    "    'random_seed' : SEED,\n",
    "    'metric_period':500,\n",
    "    'od_wait':500,\n",
    "    'l2_leaf_reg':100,\n",
    "    'use_best_model' : True,\n",
    "    'depth' : 10,\n",
    "    'min_data_in_leaf' : 256,\n",
    "#     'early_stopping_rounds' : 200,\n",
    "    'task_type' : 'GPU',\n",
    "    'verbose': True\n",
    "}\n",
    "\n",
    "paramsList = [cat_params,cat_params1,cat_params2,cat_params3]"
   ]
  },
  {
   "cell_type": "code",
   "execution_count": 8,
   "metadata": {},
   "outputs": [],
   "source": [
    "#isolate test and traindata\n",
    "test_data = test[features_list]\n",
    "train_data = train[features_list]"
   ]
  },
  {
   "cell_type": "code",
   "execution_count": 9,
   "metadata": {},
   "outputs": [],
   "source": [
    "result_list = test[\"TransactionID\"].to_frame(name=\"TransactionID\")\n",
    "mydf = train['isFraud']\n",
    "target = mydf"
   ]
  },
  {
   "cell_type": "code",
   "execution_count": 10,
   "metadata": {},
   "outputs": [
    {
     "data": {
      "text/plain": [
       "80"
      ]
     },
     "execution_count": 10,
     "metadata": {},
     "output_type": "execute_result"
    }
   ],
   "source": [
    "del(test)\n",
    "del(train)\n",
    "gc.collect()"
   ]
  },
  {
   "cell_type": "code",
   "execution_count": 11,
   "metadata": {},
   "outputs": [],
   "source": [
    "#prepare folds for validation\n",
    "folds = StratifiedKFold(n_splits=5,shuffle=False)"
   ]
  },
  {
   "cell_type": "code",
   "execution_count": 12,
   "metadata": {},
   "outputs": [],
   "source": [
    "# X,y = train_data, target    \n",
    "# P,P_y = test_data, target "
   ]
  },
  {
   "cell_type": "code",
   "execution_count": 13,
   "metadata": {},
   "outputs": [],
   "source": [
    "# oof = np.zeros(len(train_data))\n",
    "# predictions = np.zeros(len(test_data))"
   ]
  },
  {
   "cell_type": "code",
   "execution_count": 14,
   "metadata": {},
   "outputs": [],
   "source": [
    "pred_temp = pd.read_csv('sample_submission.csv')"
   ]
  },
  {
   "cell_type": "code",
   "execution_count": 15,
   "metadata": {},
   "outputs": [],
   "source": [
    "def createModel(folds,train, target,estimator):\n",
    "#     estimator = CatBoostClassifier(**cat_params)  \n",
    "    aucList= []\n",
    "    for fold_, (trn_idx, val_idx) in enumerate(folds.split(train, target)):\n",
    "        print('Fold:',fold_)\n",
    "\n",
    "\n",
    "        estimator.fit(train.iloc[trn_idx,:],target[trn_idx],eval_set=(train.iloc[val_idx,:], target[val_idx]))\n",
    "        score = estimator.get_best_score()\n",
    "        aucList.append(score[\"validation\"][\"AUC\"])\n",
    "    print('Model Completed: \\n')\n",
    "    print('Average AUC: {}\\n'.format(statistics.mean(aucList)))\n",
    "    print('Variance in AUC: {}\\n'.format((max(aucList)-min(aucList))))"
   ]
  },
  {
   "cell_type": "code",
   "execution_count": 18,
   "metadata": {},
   "outputs": [],
   "source": [
    "cat_params_best = {\n",
    "    'loss_function': 'Logloss',\n",
    "#     'eval_metric':'AUC',\n",
    "    'iterations' : 2300,\n",
    "    'learning_rate' : 0.05,\n",
    "    'random_seed' : SEED,\n",
    "    'metric_period':100,\n",
    "#     'od_wait':500,\n",
    "#     'use_best_model' : True,\n",
    "    'depth' : 12,\n",
    "    'l2_leaf_reg':20,\n",
    "    'min_data_in_leaf' : 256,\n",
    "#     'early_stopping_rounds' : 200,\n",
    "    'task_type' : 'GPU',\n",
    "    'verbose': True\n",
    "}"
   ]
  },
  {
   "cell_type": "code",
   "execution_count": 22,
   "metadata": {},
   "outputs": [
    {
     "name": "stdout",
     "output_type": "stream",
     "text": [
      "0:\tlearn: 0.6016658\ttotal: 129ms\tremaining: 4m 55s\n",
      "100:\tlearn: 0.0827476\ttotal: 12.1s\tremaining: 4m 24s\n",
      "200:\tlearn: 0.0732190\ttotal: 23.2s\tremaining: 4m 2s\n",
      "300:\tlearn: 0.0676976\ttotal: 34.2s\tremaining: 3m 47s\n",
      "400:\tlearn: 0.0631380\ttotal: 45.1s\tremaining: 3m 33s\n",
      "500:\tlearn: 0.0594666\ttotal: 56.3s\tremaining: 3m 22s\n",
      "600:\tlearn: 0.0566594\ttotal: 1m 7s\tremaining: 3m 10s\n",
      "700:\tlearn: 0.0538338\ttotal: 1m 18s\tremaining: 2m 59s\n",
      "800:\tlearn: 0.0515561\ttotal: 1m 29s\tremaining: 2m 47s\n",
      "900:\tlearn: 0.0493255\ttotal: 1m 40s\tremaining: 2m 36s\n",
      "1000:\tlearn: 0.0474912\ttotal: 1m 51s\tremaining: 2m 25s\n",
      "1100:\tlearn: 0.0459235\ttotal: 2m 2s\tremaining: 2m 13s\n",
      "1200:\tlearn: 0.0441884\ttotal: 2m 13s\tremaining: 2m 2s\n",
      "1300:\tlearn: 0.0429191\ttotal: 2m 24s\tremaining: 1m 50s\n",
      "1400:\tlearn: 0.0417473\ttotal: 2m 35s\tremaining: 1m 39s\n",
      "1500:\tlearn: 0.0405040\ttotal: 2m 46s\tremaining: 1m 28s\n",
      "1600:\tlearn: 0.0394036\ttotal: 2m 56s\tremaining: 1m 17s\n",
      "1700:\tlearn: 0.0382123\ttotal: 3m 7s\tremaining: 1m 6s\n",
      "1800:\tlearn: 0.0371032\ttotal: 3m 18s\tremaining: 55s\n",
      "1900:\tlearn: 0.0358421\ttotal: 3m 29s\tremaining: 44s\n",
      "2000:\tlearn: 0.0346557\ttotal: 3m 40s\tremaining: 33s\n",
      "2100:\tlearn: 0.0337426\ttotal: 3m 51s\tremaining: 22s\n",
      "2200:\tlearn: 0.0329869\ttotal: 4m 3s\tremaining: 10.9s\n",
      "2299:\tlearn: 0.0321614\ttotal: 4m 14s\tremaining: 0us\n"
     ]
    }
   ],
   "source": [
    "final_estimator = CatBoostClassifier(**cat_params_best)\n",
    "final_estimator.fit(train_data,target)\n",
    "results = final_estimator.predict_proba(test_data)[:,1]\n",
    "pred_temp['isFraud'] = results\n",
    "pred_temp.to_csv(\"cat_best.csv\",index=False)"
   ]
  },
  {
   "cell_type": "code",
   "execution_count": 20,
   "metadata": {},
   "outputs": [],
   "source": []
  }
 ],
 "metadata": {
  "kernelspec": {
   "display_name": "Python 3",
   "language": "python",
   "name": "python3"
  },
  "language_info": {
   "codemirror_mode": {
    "name": "ipython",
    "version": 3
   },
   "file_extension": ".py",
   "mimetype": "text/x-python",
   "name": "python",
   "nbconvert_exporter": "python",
   "pygments_lexer": "ipython3",
   "version": "3.7.4"
  }
 },
 "nbformat": 4,
 "nbformat_minor": 2
}
