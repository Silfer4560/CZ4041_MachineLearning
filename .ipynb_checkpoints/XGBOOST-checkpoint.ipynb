{
 "cells": [
  {
   "cell_type": "code",
   "execution_count": null,
   "metadata": {},
   "outputs": [],
   "source": [
    "#  Libraries\n",
    "from tqdm import tqdm_notebook\n",
    "from time import sleep\n",
    "import numpy as np \n",
    "import pandas as pd\n",
    "import gc\n",
    "import xgboost as xgb\n",
    "from sklearn.preprocessing import LabelEncoder"
   ]
  },
  {
   "cell_type": "code",
   "execution_count": null,
   "metadata": {
    "scrolled": true
   },
   "outputs": [],
   "source": [
    "#import in dataset\n",
    "f = open(\"features_optimized.txt\",\"r\")\n",
    "features_list = []\n",
    "features_list = f.read().splitlines()\n",
    "f.close()\n",
    "print (features_list)\n",
    "\n",
    "train = pd.read_csv(\"train_prepared.csv\")\n",
    "test = pd.read_csv(\"test_prepared.csv\")"
   ]
  },
  {
   "cell_type": "code",
   "execution_count": null,
   "metadata": {},
   "outputs": [],
   "source": [
    "def reduce_mem_usage(df, verbose=True):\n",
    "    numerics = ['int16', 'int32', 'int64', 'float16', 'float32', 'float64']\n",
    "    start_mem = df.memory_usage().sum() / 1024**2    \n",
    "    for col in df.columns:\n",
    "        col_type = df[col].dtypes\n",
    "        if col_type in numerics:\n",
    "            c_min = df[col].min()\n",
    "            c_max = df[col].max()\n",
    "            if str(col_type)[:3] == 'int':\n",
    "                if c_min > np.iinfo(np.int8).min and c_max < np.iinfo(np.int8).max:\n",
    "                    df[col] = df[col].astype(np.int8)\n",
    "                elif c_min > np.iinfo(np.int16).min and c_max < np.iinfo(np.int16).max:\n",
    "                    df[col] = df[col].astype(np.int16)\n",
    "                elif c_min > np.iinfo(np.int32).min and c_max < np.iinfo(np.int32).max:\n",
    "                    df[col] = df[col].astype(np.int32)\n",
    "                elif c_min > np.iinfo(np.int64).min and c_max < np.iinfo(np.int64).max:\n",
    "                    df[col] = df[col].astype(np.int64)  \n",
    "            else:\n",
    "                if c_min > np.finfo(np.float16).min and c_max < np.finfo(np.float16).max:\n",
    "                    df[col] = df[col].astype(np.float16)\n",
    "                elif c_min > np.finfo(np.float32).min and c_max < np.finfo(np.float32).max:\n",
    "                    df[col] = df[col].astype(np.float32)\n",
    "                else:\n",
    "                    df[col] = df[col].astype(np.float64)    \n",
    "    end_mem = df.memory_usage().sum() / 1024**2\n",
    "    if verbose: \n",
    "        print('Mem. usage decreased to {:5.2f} Mb ({:.1f}% reduction)'.format(end_mem, 100 * (start_mem - end_mem) / start_mem))\n",
    "    return df"
   ]
  },
  {
   "cell_type": "code",
   "execution_count": null,
   "metadata": {},
   "outputs": [],
   "source": [
    "# #encode the dataframe\n",
    "for col in tqdm_notebook(train.columns): \n",
    "    if train[col].dtype == 'object':\n",
    "        le = LabelEncoder()\n",
    "        le.fit(list(train[col].astype(str).values) + list(test[col].astype(str).values))\n",
    "        train[col] = le.transform(list(train[col].astype(str).values))\n",
    "        test[col] = le.transform(list(test[col].astype(str).values))  "
   ]
  },
  {
   "cell_type": "code",
   "execution_count": null,
   "metadata": {},
   "outputs": [],
   "source": [
    "#reduce mem usage\n",
    "train = reduce_mem_usage(train)\n",
    "test = reduce_mem_usage(test)\n",
    "\n",
    "#isolate test and traindata\n",
    "test_data = test[features_list]\n",
    "train_data = train[features_list]"
   ]
  },
  {
   "cell_type": "code",
   "execution_count": null,
   "metadata": {},
   "outputs": [],
   "source": [
    "result_list = test[\"TransactionID\"].to_frame(name=\"TransactionID\")\n",
    "mydf = train['isFraud']\n",
    "target = mydf"
   ]
  },
  {
   "cell_type": "code",
   "execution_count": null,
   "metadata": {},
   "outputs": [],
   "source": [
    "del(test)\n",
    "del(train)\n",
    "gc.collect()"
   ]
  },
  {
   "cell_type": "code",
   "execution_count": null,
   "metadata": {},
   "outputs": [],
   "source": [
    "#perform cv to show how accurate the params are\n",
    "params = {\n",
    "    'objective':'binary:logistic',\n",
    "    'colsample_bytree': 0.4,\n",
    "    'subsample':0.8,\n",
    "    'learning_rate': 0.1,\n",
    "    'max_depth': 10,\n",
    "    'reg_alpha': 0,\n",
    "    'reg_lambda':2\n",
    "}\n",
    "d_train = xgb.DMatrix(data= train_data, label = target)\n",
    "\n",
    "xgb_cv = xgb.cv(dtrain=d_train, params=params, nfold=5,\n",
    "                    num_boost_round=1000, \n",
    "                    early_stopping_rounds=50,\n",
    "                    metrics='auc',\n",
    "                    verbose_eval=50)"
   ]
  },
  {
   "cell_type": "code",
   "execution_count": null,
   "metadata": {},
   "outputs": [],
   "source": [
    "#actual classifier\n",
    "xgb_clf = xgb.XGBClassifier(n_estimators=1000,\n",
    "                                max_depth=10, \n",
    "                                learning_rate=0.01,\n",
    "                                subsample=0.8,\n",
    "                                colsample_bytree=0.4,\n",
    "                                missing=-1,\n",
    "                                eval_metric='auc',\n",
    "                                tree_method='exact',\n",
    "                                predictor = 'cpu_predictor',\n",
    "                                reg_lambda = 2,\n",
    "                                reg_alpha = 0 )\n",
    "#train model on whole train set\n",
    "model = xgb_clf.fit(train_data,target)\n",
    "\n",
    "#use the train model to predict probability of fradulent transactions based on test set data\n",
    "y_pred = xgb_clf.predict_proba(test_data)[:, 1]#convert into binary values\n",
    "result_list[\"isFraud\"] = y_pred\n",
    "results = result_list\n",
    "#write results to csv\n",
    "results.to_csv(\"XGBoost_predictions.csv\",index=False)"
   ]
  },
  {
   "cell_type": "code",
   "execution_count": null,
   "metadata": {},
   "outputs": [],
   "source": []
  }
 ],
 "metadata": {
  "kernelspec": {
   "display_name": "Python 3",
   "language": "python",
   "name": "python3"
  },
  "language_info": {
   "codemirror_mode": {
    "name": "ipython",
    "version": 3
   },
   "file_extension": ".py",
   "mimetype": "text/x-python",
   "name": "python",
   "nbconvert_exporter": "python",
   "pygments_lexer": "ipython3",
   "version": "3.7.4"
  }
 },
 "nbformat": 4,
 "nbformat_minor": 4
}
