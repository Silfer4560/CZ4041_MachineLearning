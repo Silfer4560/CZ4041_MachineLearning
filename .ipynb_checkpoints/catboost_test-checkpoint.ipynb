{
 "cells": [
  {
   "cell_type": "code",
   "execution_count": null,
   "metadata": {},
   "outputs": [],
   "source": [
    "# General imports\n",
    "import numpy as np\n",
    "import pandas as pd\n",
    "import os, sys, gc, warnings, random\n",
    "import statistics\n",
    "import pandas as pd\n",
    "pd.set_option('display.max_rows', 500)\n",
    "pd.set_option('display.max_columns', 500)\n",
    "pd.set_option('display.width', 1000)\n",
    "\n",
    "from sklearn.model_selection import train_test_split, StratifiedKFold\n",
    "from sklearn.preprocessing import LabelEncoder\n",
    "\n",
    "from catboost import CatBoostClassifier, Pool, cv\n",
    "from sklearn.metrics import auc\n",
    "from sklearn import metrics\n",
    "import tqdm\n",
    "\n",
    "import math\n",
    "warnings.filterwarnings('ignore')\n",
    "\n",
    "SEED = 4041"
   ]
  },
  {
   "cell_type": "code",
   "execution_count": null,
   "metadata": {
    "scrolled": false
   },
   "outputs": [],
   "source": [
    "#import in dataset\n",
    "f = open(\"features_optimized.txt\",\"r\")\n",
    "features_list = []\n",
    "features_list = f.read().splitlines()\n",
    "f.close()\n",
    "print (features_list)\n",
    "\n",
    "train = pd.read_csv(\"train_prepared.csv\")\n",
    "test = pd.read_csv(\"test_prepared.csv\")"
   ]
  },
  {
   "cell_type": "code",
   "execution_count": null,
   "metadata": {},
   "outputs": [],
   "source": [
    "def reduce_mem_usage(df, verbose=True):\n",
    "    numerics = ['int16', 'int32', 'int64', 'float16', 'float32', 'float64']\n",
    "    start_mem = df.memory_usage().sum() / 1024**2    \n",
    "    for col in df.columns:\n",
    "        col_type = df[col].dtypes\n",
    "        if col_type in numerics:\n",
    "            c_min = df[col].min()\n",
    "            c_max = df[col].max()\n",
    "            if str(col_type)[:3] == 'int':\n",
    "                if c_min > np.iinfo(np.int8).min and c_max < np.iinfo(np.int8).max:\n",
    "                    df[col] = df[col].astype(np.int8)\n",
    "                elif c_min > np.iinfo(np.int16).min and c_max < np.iinfo(np.int16).max:\n",
    "                    df[col] = df[col].astype(np.int16)\n",
    "                elif c_min > np.iinfo(np.int32).min and c_max < np.iinfo(np.int32).max:\n",
    "                    df[col] = df[col].astype(np.int32)\n",
    "                elif c_min > np.iinfo(np.int64).min and c_max < np.iinfo(np.int64).max:\n",
    "                    df[col] = df[col].astype(np.int64)  \n",
    "            else:\n",
    "                if c_min > np.finfo(np.float16).min and c_max < np.finfo(np.float16).max:\n",
    "                    df[col] = df[col].astype(np.float16)\n",
    "                elif c_min > np.finfo(np.float32).min and c_max < np.finfo(np.float32).max:\n",
    "                    df[col] = df[col].astype(np.float32)\n",
    "                else:\n",
    "                    df[col] = df[col].astype(np.float64)    \n",
    "    end_mem = df.memory_usage().sum() / 1024**2\n",
    "    if verbose: \n",
    "        print('Mem. usage decreased to {:5.2f} Mb ({:.1f}% reduction)'.format(end_mem, 100 * (start_mem - end_mem) / start_mem))\n",
    "    return df"
   ]
  },
  {
   "cell_type": "code",
   "execution_count": null,
   "metadata": {},
   "outputs": [],
   "source": [
    "#fill nan with -999\n",
    "test.fillna(-999,inplace=True)\n",
    "train.fillna(-999,inplace=True)"
   ]
  },
  {
   "cell_type": "code",
   "execution_count": null,
   "metadata": {},
   "outputs": [],
   "source": [
    "#encode the dataframe\n",
    "for col in tqdm.tqdm(train.columns): \n",
    "    if train[col].dtype == 'object':\n",
    "        le = LabelEncoder()\n",
    "        le.fit(list(train[col].astype(str).values) + list(test[col].astype(str).values))\n",
    "        train[col] = le.transform(list(train[col].astype(str).values))\n",
    "        test[col] = le.transform(list(test[col].astype(str).values))"
   ]
  },
  {
   "cell_type": "code",
   "execution_count": null,
   "metadata": {},
   "outputs": [],
   "source": [
    "#reduce mem usage\n",
    "train = reduce_mem_usage(train)\n",
    "test = reduce_mem_usage(test)"
   ]
  },
  {
   "cell_type": "code",
   "execution_count": null,
   "metadata": {},
   "outputs": [],
   "source": [
    "#define catboost parameters\n",
    "cat_params = {\n",
    "    'loss_function': 'Logloss',\n",
    "    'eval_metric':'AUC',\n",
    "    'iterations' : 10000,\n",
    "    'learning_rate' : 0.05,\n",
    "    'random_seed' : SEED,\n",
    "    'metric_period':500,\n",
    "    'od_wait':500,\n",
    "    'use_best_model' : True,\n",
    "    'depth' : 12,\n",
    "    'l2_leaf_reg':20,\n",
    "    'min_data_in_leaf' : 256,\n",
    "#     'early_stopping_rounds' : 200,\n",
    "    'task_type' : 'GPU',\n",
    "    'verbose': True\n",
    "}\n",
    "cat_params1 = {\n",
    "    'loss_function': 'Logloss',\n",
    "    'eval_metric':'AUC',\n",
    "    'iterations' : 10000,\n",
    "    'learning_rate' : 0.05,\n",
    "    'random_seed' : SEED,\n",
    "    'metric_period':500,\n",
    "    'od_wait':500,\n",
    "    'l2_leaf_reg':20,\n",
    "    'use_best_model' : True,\n",
    "    'depth' : 10,\n",
    "    'min_data_in_leaf' : 256,\n",
    "#     'early_stopping_rounds' : 200,\n",
    "    'task_type' : 'GPU',\n",
    "    'verbose': True\n",
    "}\n",
    "cat_params2 = {\n",
    "    'loss_function': 'Logloss',\n",
    "    'eval_metric':'AUC',\n",
    "    'iterations' : 10000,\n",
    "    'learning_rate' : 0.05,\n",
    "    'random_seed' : SEED,\n",
    "    'metric_period':500,\n",
    "    'od_wait':500,\n",
    "    'l2_leaf_reg':60,\n",
    "    'use_best_model' : True,\n",
    "    'depth' : 10,\n",
    "    'min_data_in_leaf' : 256,\n",
    "#     'early_stopping_rounds' : 200,\n",
    "    'task_type' : 'GPU',\n",
    "    'verbose': True\n",
    "}\n",
    "cat_params3 = {\n",
    "    'loss_function': 'Logloss',\n",
    "    'eval_metric':'AUC',\n",
    "    'iterations' : 10000,\n",
    "    'learning_rate' : 0.05,\n",
    "    'random_seed' : SEED,\n",
    "    'metric_period':500,\n",
    "    'od_wait':500,\n",
    "    'l2_leaf_reg':100,\n",
    "    'use_best_model' : True,\n",
    "    'depth' : 10,\n",
    "    'min_data_in_leaf' : 256,\n",
    "#     'early_stopping_rounds' : 200,\n",
    "    'task_type' : 'GPU',\n",
    "    'verbose': True\n",
    "}\n",
    "\n",
    "paramsList = [cat_params,cat_params1,cat_params2,cat_params3]"
   ]
  },
  {
   "cell_type": "code",
   "execution_count": null,
   "metadata": {},
   "outputs": [],
   "source": [
    "#isolate test and traindata\n",
    "test_data = test[features_list]\n",
    "train_data = train[features_list]"
   ]
  },
  {
   "cell_type": "code",
   "execution_count": null,
   "metadata": {},
   "outputs": [],
   "source": [
    "result_list = test[\"TransactionID\"].to_frame(name=\"TransactionID\")\n",
    "mydf = train['isFraud']\n",
    "target = mydf"
   ]
  },
  {
   "cell_type": "code",
   "execution_count": null,
   "metadata": {},
   "outputs": [],
   "source": [
    "del(test)\n",
    "del(train)\n",
    "gc.collect()"
   ]
  },
  {
   "cell_type": "code",
   "execution_count": null,
   "metadata": {},
   "outputs": [],
   "source": [
    "#prepare folds for validation\n",
    "folds = StratifiedKFold(n_splits=5,shuffle=False)"
   ]
  },
  {
   "cell_type": "code",
   "execution_count": null,
   "metadata": {},
   "outputs": [],
   "source": [
    "# X,y = train_data, target    \n",
    "# P,P_y = test_data, target "
   ]
  },
  {
   "cell_type": "code",
   "execution_count": null,
   "metadata": {},
   "outputs": [],
   "source": [
    "# oof = np.zeros(len(train_data))\n",
    "# predictions = np.zeros(len(test_data))"
   ]
  },
  {
   "cell_type": "code",
   "execution_count": null,
   "metadata": {},
   "outputs": [],
   "source": [
    "pred_temp = pd.read_csv('sample_submission.csv')"
   ]
  },
  {
   "cell_type": "code",
   "execution_count": null,
   "metadata": {},
   "outputs": [],
   "source": [
    "def createModel(folds,train, target,estimator):\n",
    "#     estimator = CatBoostClassifier(**cat_params)  \n",
    "    aucList= []\n",
    "    for fold_, (trn_idx, val_idx) in enumerate(folds.split(train, target)):\n",
    "        print('Fold:',fold_)\n",
    "\n",
    "\n",
    "        estimator.fit(train.iloc[trn_idx,:],target[trn_idx],eval_set=(train.iloc[val_idx,:], target[val_idx]))\n",
    "        score = estimator.get_best_score()\n",
    "        aucList.append(score[\"validation\"][\"AUC\"])\n",
    "    print('Model Completed: \\n')\n",
    "    print('Average AUC: {}\\n'.format(statistics.mean(aucList)))\n",
    "    print('Variance in AUC: {}\\n'.format((max(aucList)-min(aucList))))"
   ]
  },
  {
   "cell_type": "code",
   "execution_count": null,
   "metadata": {},
   "outputs": [],
   "source": [
    "cat_params_best = {\n",
    "    'loss_function': 'Logloss',\n",
    "#     'eval_metric':'AUC',\n",
    "    'iterations' : 2300,\n",
    "    'learning_rate' : 0.05,\n",
    "    'random_seed' : SEED,\n",
    "    'metric_period':100,\n",
    "#     'od_wait':500,\n",
    "#     'use_best_model' : True,\n",
    "    'depth' : 12,\n",
    "    'l2_leaf_reg':20,\n",
    "    'min_data_in_leaf' : 256,\n",
    "#     'early_stopping_rounds' : 200,\n",
    "    'task_type' : 'GPU',\n",
    "    'verbose': True\n",
    "}"
   ]
  },
  {
   "cell_type": "code",
   "execution_count": null,
   "metadata": {},
   "outputs": [],
   "source": [
    "final_estimator = CatBoostClassifier(**cat_params_best)\n",
    "final_estimator.fit(train_data,target)\n",
    "results = final_estimator.predict_proba(test_data)[:,1]\n",
    "pred_temp['isFraud'] = results\n",
    "pred_temp.to_csv(\"cat_best.csv\",index=False)"
   ]
  },
  {
   "cell_type": "code",
   "execution_count": null,
   "metadata": {},
   "outputs": [],
   "source": []
  }
 ],
 "metadata": {
  "kernelspec": {
   "display_name": "Python 3",
   "language": "python",
   "name": "python3"
  },
  "language_info": {
   "codemirror_mode": {
    "name": "ipython",
    "version": 3
   },
   "file_extension": ".py",
   "mimetype": "text/x-python",
   "name": "python",
   "nbconvert_exporter": "python",
   "pygments_lexer": "ipython3",
   "version": "3.7.4"
  }
 },
 "nbformat": 4,
 "nbformat_minor": 2
}
