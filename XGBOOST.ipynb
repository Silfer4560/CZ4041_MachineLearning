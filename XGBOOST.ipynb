{
 "cells": [
  {
   "cell_type": "code",
   "execution_count": 1,
   "metadata": {},
   "outputs": [],
   "source": [
    "#  Libraries\n",
    "import tqdm\n",
    "import numpy as np \n",
    "import pandas as pd\n",
    "import gc\n",
    "import xgboost as xgb\n",
    "\n",
    "from sklearn.preprocessing import LabelEncoder"
   ]
  },
  {
   "cell_type": "code",
   "execution_count": 2,
   "metadata": {},
   "outputs": [
    {
     "name": "stdout",
     "output_type": "stream",
     "text": [
      "['TransactionAmt', 'ProductCD', 'card1', 'card2', 'card3', 'card4', 'card5', 'card6', 'addr1', 'dist1', 'P_emaildomain', 'R_emaildomain', 'C1', 'C2', 'C4', 'C5', 'C6', 'C7', 'C8', 'C9', 'C10', 'C11', 'C12', 'C13', 'C14', 'D1', 'D2', 'D3', 'D4', 'D5', 'D6', 'D8', 'D9', 'D10', 'D11', 'D12', 'D13', 'D14', 'D15', 'M2', 'M3', 'M4', 'M5', 'M6', 'M7', 'M8', 'M9', 'V2', 'V3', 'V4', 'V5', 'V6', 'V7', 'V10', 'V11', 'V12', 'V13', 'V19', 'V20', 'V29', 'V30', 'V34', 'V35', 'V36', 'V37', 'V38', 'V40', 'V44', 'V45', 'V47', 'V48', 'V49', 'V52', 'V53', 'V54', 'V56', 'V61', 'V62', 'V63', 'V64', 'V69', 'V70', 'V74', 'V75', 'V76', 'V78', 'V81', 'V82', 'V83', 'V85', 'V87', 'V90', 'V91', 'V94', 'V95', 'V96', 'V99', 'V126', 'V127', 'V128', 'V130', 'V131', 'V139', 'V140', 'V143', 'V149', 'V150', 'V152', 'V156', 'V159', 'V160', 'V164', 'V165', 'V166', 'V170', 'V187', 'V189', 'V202', 'V203', 'V204', 'V205', 'V206', 'V207', 'V208', 'V209', 'V210', 'V212', 'V213', 'V214', 'V215', 'V218', 'V220', 'V221', 'V222', 'V224', 'V229', 'V234', 'V251', 'V257', 'V258', 'V259', 'V261', 'V262', 'V263', 'V264', 'V265', 'V266', 'V267', 'V268', 'V270', 'V271', 'V272', 'V274', 'V277', 'V278', 'V279', 'V280', 'V282', 'V283', 'V285', 'V288', 'V289', 'V291', 'V292', 'V294', 'V303', 'V306', 'V307', 'V308', 'V310', 'V312', 'V313', 'V314', 'V315', 'V317', 'V323', 'V332', 'V335', 'V338', 'id_01', 'id_02', 'id_03', 'id_05', 'id_06', 'id_09', 'id_11', 'id_13', 'id_14', 'id_17', 'id_19', 'id_20', 'id_32', 'id_33', 'id_37', 'id_38', 'DeviceType', 'DeviceInfo', 'OS_id_30', 'version_id_30', 'browser', 'b_version']\n"
     ]
    }
   ],
   "source": [
    "#import in dataset\n",
    "f = open(\"features_optimized.txt\",\"r\")\n",
    "features_list = []\n",
    "features_list = f.read().splitlines()\n",
    "f.close()\n",
    "print (features_list)\n",
    "\n",
    "train = pd.read_csv(\"train_prepared.csv\")\n",
    "test = pd.read_csv(\"test_prepared.csv\")"
   ]
  },
  {
   "cell_type": "code",
   "execution_count": 3,
   "metadata": {},
   "outputs": [],
   "source": [
    "def reduce_mem_usage(df, verbose=True):\n",
    "    numerics = ['int16', 'int32', 'int64', 'float16', 'float32', 'float64']\n",
    "    start_mem = df.memory_usage().sum() / 1024**2    \n",
    "    for col in df.columns:\n",
    "        col_type = df[col].dtypes\n",
    "        if col_type in numerics:\n",
    "            c_min = df[col].min()\n",
    "            c_max = df[col].max()\n",
    "            if str(col_type)[:3] == 'int':\n",
    "                if c_min > np.iinfo(np.int8).min and c_max < np.iinfo(np.int8).max:\n",
    "                    df[col] = df[col].astype(np.int8)\n",
    "                elif c_min > np.iinfo(np.int16).min and c_max < np.iinfo(np.int16).max:\n",
    "                    df[col] = df[col].astype(np.int16)\n",
    "                elif c_min > np.iinfo(np.int32).min and c_max < np.iinfo(np.int32).max:\n",
    "                    df[col] = df[col].astype(np.int32)\n",
    "                elif c_min > np.iinfo(np.int64).min and c_max < np.iinfo(np.int64).max:\n",
    "                    df[col] = df[col].astype(np.int64)  \n",
    "            else:\n",
    "                if c_min > np.finfo(np.float16).min and c_max < np.finfo(np.float16).max:\n",
    "                    df[col] = df[col].astype(np.float16)\n",
    "                elif c_min > np.finfo(np.float32).min and c_max < np.finfo(np.float32).max:\n",
    "                    df[col] = df[col].astype(np.float32)\n",
    "                else:\n",
    "                    df[col] = df[col].astype(np.float64)    \n",
    "    end_mem = df.memory_usage().sum() / 1024**2\n",
    "    if verbose: \n",
    "        print('Mem. usage decreased to {:5.2f} Mb ({:.1f}% reduction)'.format(end_mem, 100 * (start_mem - end_mem) / start_mem))\n",
    "    return df"
   ]
  },
  {
   "cell_type": "code",
   "execution_count": 4,
   "metadata": {},
   "outputs": [
    {
     "name": "stderr",
     "output_type": "stream",
     "text": [
      "100%|███████████████████████████████████████████████████████████████████████████████████████████████████████████████████████████████████████████████████████████████| 355/355 [00:28<00:00, 12.33it/s]\n"
     ]
    }
   ],
   "source": [
    "#encode the dataframe\n",
    "for col in tqdm.tqdm(train.columns): \n",
    "    if train[col].dtype == 'object':\n",
    "        le = LabelEncoder()\n",
    "        le.fit(list(train[col].astype(str).values) + list(test[col].astype(str).values))\n",
    "        train[col] = le.transform(list(train[col].astype(str).values))\n",
    "        test[col] = le.transform(list(test[col].astype(str).values))  "
   ]
  },
  {
   "cell_type": "code",
   "execution_count": 5,
   "metadata": {},
   "outputs": [
    {
     "name": "stdout",
     "output_type": "stream",
     "text": [
      "Mem. usage decreased to 425.77 Mb (73.4% reduction)\n",
      "Mem. usage decreased to 372.56 Mb (72.8% reduction)\n"
     ]
    }
   ],
   "source": [
    "#reduce mem usage\n",
    "train = reduce_mem_usage(train)\n",
    "test = reduce_mem_usage(test)\n",
    "\n",
    "#isolate test and traindata\n",
    "test_data = test[features_list]\n",
    "train_data = train[features_list]"
   ]
  },
  {
   "cell_type": "code",
   "execution_count": 6,
   "metadata": {},
   "outputs": [],
   "source": [
    "result_list = test[\"TransactionID\"].to_frame(name=\"TransactionID\")\n",
    "mydf = train['isFraud']\n",
    "target = mydf"
   ]
  },
  {
   "cell_type": "code",
   "execution_count": 7,
   "metadata": {},
   "outputs": [
    {
     "data": {
      "text/plain": [
       "40"
      ]
     },
     "execution_count": 7,
     "metadata": {},
     "output_type": "execute_result"
    }
   ],
   "source": [
    "del(test)\n",
    "del(train)\n",
    "gc.collect()"
   ]
  },
  {
   "cell_type": "code",
   "execution_count": 8,
   "metadata": {},
   "outputs": [
    {
     "name": "stdout",
     "output_type": "stream",
     "text": [
      "[0]\tvalidation_0-auc:0.83040\n",
      "Will train until validation_0-auc hasn't improved in 500 rounds.\n",
      "[50]\tvalidation_0-auc:0.87071\n",
      "[100]\tvalidation_0-auc:0.87885\n",
      "[150]\tvalidation_0-auc:0.88354\n",
      "[200]\tvalidation_0-auc:0.88905\n",
      "[250]\tvalidation_0-auc:0.89428\n",
      "[300]\tvalidation_0-auc:0.89924\n",
      "[350]\tvalidation_0-auc:0.90302\n",
      "[400]\tvalidation_0-auc:0.90660\n",
      "[450]\tvalidation_0-auc:0.90947\n",
      "[500]\tvalidation_0-auc:0.91230\n",
      "[550]\tvalidation_0-auc:0.91495\n",
      "[600]\tvalidation_0-auc:0.91667\n",
      "[650]\tvalidation_0-auc:0.91811\n",
      "[700]\tvalidation_0-auc:0.91943\n",
      "[750]\tvalidation_0-auc:0.92031\n",
      "[800]\tvalidation_0-auc:0.92083\n",
      "[850]\tvalidation_0-auc:0.92122\n",
      "[900]\tvalidation_0-auc:0.92158\n",
      "[950]\tvalidation_0-auc:0.92167\n",
      "[1000]\tvalidation_0-auc:0.92181\n",
      "[1050]\tvalidation_0-auc:0.92197\n",
      "[1100]\tvalidation_0-auc:0.92203\n",
      "[1150]\tvalidation_0-auc:0.92204\n",
      "[1200]\tvalidation_0-auc:0.92209\n",
      "[1250]\tvalidation_0-auc:0.92194\n",
      "[1300]\tvalidation_0-auc:0.92185\n",
      "[1350]\tvalidation_0-auc:0.92172\n",
      "[1400]\tvalidation_0-auc:0.92167\n",
      "[1450]\tvalidation_0-auc:0.92183\n",
      "[1500]\tvalidation_0-auc:0.92179\n",
      "[1550]\tvalidation_0-auc:0.92175\n",
      "[1600]\tvalidation_0-auc:0.92176\n",
      "[1650]\tvalidation_0-auc:0.92174\n",
      "Stopping. Best iteration:\n",
      "[1185]\tvalidation_0-auc:0.92213\n",
      "\n",
      "Wall time: 15min 41s\n"
     ]
    }
   ],
   "source": [
    "%%time\n",
    "#Training\n",
    "train_input = train_data.index[:4*len(train_data)//5]\n",
    "train_output = train_data.index[4*len(train_data)//5:]\n",
    "\n",
    "clf = xgb.XGBClassifier( \n",
    "    n_estimators=20000,\n",
    "    max_depth=10000, \n",
    "    learning_rate=0.01, \n",
    "    subsample=0.8,\n",
    "    colsample_bytree=0.4, \n",
    "    missing=-1, \n",
    "    eval_metric='auc',\n",
    "    tree_method='gpu_hist',\n",
    "    predictor = 'gpu_predictor',\n",
    "    reg_lambda = 2,\n",
    "    reg_alpha = 1\n",
    "    \n",
    ")\n",
    "h = clf.fit(train_data.loc[train_input,features_list], target[train_input], \n",
    "    eval_set=[(train_data.loc[train_output,features_list],target[train_output])],\n",
    "    verbose=50, early_stopping_rounds=500)\n"
   ]
  },
  {
   "cell_type": "code",
   "execution_count": 9,
   "metadata": {},
   "outputs": [
    {
     "name": "stdout",
     "output_type": "stream",
     "text": [
      "Wall time: 23.5 s\n"
     ]
    }
   ],
   "source": [
    "%%time\n",
    "y_pred = clf.predict_proba(test_data)[:, 1]#convert into binary values\n",
    "result_list[\"isFraud\"] = y_pred\n",
    "results = result_list\n",
    "results.to_csv(\"XGBoost_predictions.csv\",index=False)"
   ]
  },
  {
   "cell_type": "code",
   "execution_count": null,
   "metadata": {},
   "outputs": [],
   "source": []
  }
 ],
 "metadata": {
  "kernelspec": {
   "display_name": "Python 3",
   "language": "python",
   "name": "python3"
  },
  "language_info": {
   "codemirror_mode": {
    "name": "ipython",
    "version": 3
   },
   "file_extension": ".py",
   "mimetype": "text/x-python",
   "name": "python",
   "nbconvert_exporter": "python",
   "pygments_lexer": "ipython3",
   "version": "3.7.4"
  }
 },
 "nbformat": 4,
 "nbformat_minor": 4
}
